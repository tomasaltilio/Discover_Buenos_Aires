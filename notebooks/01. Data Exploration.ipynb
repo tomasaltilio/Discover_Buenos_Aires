{
 "cells": [
  {
   "cell_type": "code",
   "execution_count": 1,
   "id": "changed-collection",
   "metadata": {},
   "outputs": [],
   "source": [
    "import pandas as pd\n",
    "import numpy as np\n",
    "import os"
   ]
  },
  {
   "cell_type": "markdown",
   "id": "frank-catholic",
   "metadata": {},
   "source": [
    "## Exploring the data"
   ]
  },
  {
   "cell_type": "code",
   "execution_count": 2,
   "id": "front-virtue",
   "metadata": {},
   "outputs": [],
   "source": [
    "path = os.path.join(os.path.dirname(os.getcwd()), 'raw_data')"
   ]
  },
  {
   "cell_type": "code",
   "execution_count": 3,
   "id": "heard-dubai",
   "metadata": {},
   "outputs": [
    {
     "data": {
      "text/plain": [
       "['Accidentes',\n",
       " 'Transporte',\n",
       " 'Calidad_de_aire',\n",
       " 'Defunciones',\n",
       " 'Social',\n",
       " '.keep',\n",
       " 'Nacimientos',\n",
       " 'Desempleo',\n",
       " 'Delitos']"
      ]
     },
     "execution_count": 3,
     "metadata": {},
     "output_type": "execute_result"
    }
   ],
   "source": [
    "os.listdir(path)"
   ]
  },
  {
   "cell_type": "code",
   "execution_count": 4,
   "id": "warming-muscle",
   "metadata": {},
   "outputs": [
    {
     "data": {
      "text/plain": [
       "['reclamos-ausa.csv',\n",
       " 'documentacion-seguridad-vial.pdf',\n",
       " '.ipynb_checkpoints',\n",
       " 'intervenciones-de-seguridad-vial.csv']"
      ]
     },
     "execution_count": 4,
     "metadata": {},
     "output_type": "execute_result"
    }
   ],
   "source": [
    "os.listdir(os.path.join(path, 'Accidentes'))"
   ]
  },
  {
   "cell_type": "code",
   "execution_count": 5,
   "id": "consistent-magnitude",
   "metadata": {},
   "outputs": [
    {
     "data": {
      "text/plain": [
       "['Accidentes',\n",
       " 'Transporte',\n",
       " 'Calidad_de_aire',\n",
       " 'Defunciones',\n",
       " 'Social',\n",
       " '.keep',\n",
       " 'Nacimientos',\n",
       " 'Desempleo',\n",
       " 'Delitos']"
      ]
     },
     "execution_count": 5,
     "metadata": {},
     "output_type": "execute_result"
    }
   ],
   "source": [
    "dirs = os.listdir(path)\n",
    "dirs"
   ]
  },
  {
   "cell_type": "code",
   "execution_count": 6,
   "id": "handed-bronze",
   "metadata": {},
   "outputs": [],
   "source": [
    "def listing(dir):\n",
    "    return os.listdir(os.path.join(path, dir))"
   ]
  },
  {
   "cell_type": "code",
   "execution_count": 7,
   "id": "likely-dance",
   "metadata": {},
   "outputs": [],
   "source": [
    "accidentes = listing('Accidentes')\n",
    "transporte = listing('Transporte')\n",
    "aire = listing('Calidad_de_aire')\n",
    "social = listing('Social')\n",
    "nacimientos = listing('Nacimientos')\n",
    "desempleo = listing('Desempleo')\n",
    "delitos = listing('Delitos')"
   ]
  },
  {
   "cell_type": "code",
   "execution_count": 8,
   "id": "technical-bulletin",
   "metadata": {},
   "outputs": [],
   "source": [
    "datasets = {\n",
    "    'accidentes': accidentes,\n",
    "    'transporte': transporte,\n",
    "    'aire': aire,\n",
    "    'social': social,\n",
    "    'nacimientos': nacimientos,\n",
    "    'desempleo': desempleo,\n",
    "    'delitos': delitos\n",
    "}"
   ]
  },
  {
   "cell_type": "code",
   "execution_count": 9,
   "id": "attached-patch",
   "metadata": {},
   "outputs": [
    {
     "data": {
      "text/plain": [
       "{'accidentes': ['reclamos-ausa.csv',\n",
       "  'documentacion-seguridad-vial.pdf',\n",
       "  '.ipynb_checkpoints',\n",
       "  'intervenciones-de-seguridad-vial.csv'],\n",
       " 'transporte': ['dataset_viajes_sube.csv',\n",
       "  '202101_PAX15min.csv',\n",
       "  'paradas-de-colectivo.csv'],\n",
       " 'aire': ['calidad-aire.csv',\n",
       "  'estaciones-ambientales.csv',\n",
       "  'contaminantes.csv'],\n",
       " 'social': ['alojamientos-turisticos.csv',\n",
       "  'clubes.csv',\n",
       "  'sueldo_funcionarios_2019.csv'],\n",
       " 'nacimientos': ['nacimientos-por-establecimiento-2019.csv',\n",
       "  'nacimientos-por-nacionalidad-padres-2019.csv'],\n",
       " 'desempleo': ['max_neduc_ocup_sexo__annio__n_instruc_limpio.csv',\n",
       "  'tas_emp_sexo__annio_limpio.csv',\n",
       "  'calif_ocup_sexo__annio__calif_ocup_limpio.csv',\n",
       "  'tas_des_sexo__annio_limpio.csv'],\n",
       " 'delitos': ['delitos_2019.csv']}"
      ]
     },
     "execution_count": 9,
     "metadata": {},
     "output_type": "execute_result"
    }
   ],
   "source": [
    "datasets"
   ]
  }
 ],
 "metadata": {
  "kernelspec": {
   "display_name": "Python 3",
   "language": "python",
   "name": "python3"
  },
  "language_info": {
   "codemirror_mode": {
    "name": "ipython",
    "version": 3
   },
   "file_extension": ".py",
   "mimetype": "text/x-python",
   "name": "python",
   "nbconvert_exporter": "python",
   "pygments_lexer": "ipython3",
   "version": "3.8.6"
  },
  "toc": {
   "base_numbering": 1,
   "nav_menu": {},
   "number_sections": true,
   "sideBar": true,
   "skip_h1_title": false,
   "title_cell": "Table of Contents",
   "title_sidebar": "Contents",
   "toc_cell": false,
   "toc_position": {},
   "toc_section_display": true,
   "toc_window_display": false
  },
  "varInspector": {
   "cols": {
    "lenName": 16,
    "lenType": 16,
    "lenVar": 40
   },
   "kernels_config": {
    "python": {
     "delete_cmd_postfix": "",
     "delete_cmd_prefix": "del ",
     "library": "var_list.py",
     "varRefreshCmd": "print(var_dic_list())"
    },
    "r": {
     "delete_cmd_postfix": ") ",
     "delete_cmd_prefix": "rm(",
     "library": "var_list.r",
     "varRefreshCmd": "cat(var_dic_list()) "
    }
   },
   "types_to_exclude": [
    "module",
    "function",
    "builtin_function_or_method",
    "instance",
    "_Feature"
   ],
   "window_display": false
  }
 },
 "nbformat": 4,
 "nbformat_minor": 5
}
