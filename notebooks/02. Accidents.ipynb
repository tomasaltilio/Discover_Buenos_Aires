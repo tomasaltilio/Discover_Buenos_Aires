{
 "cells": [
  {
   "cell_type": "code",
   "execution_count": 1,
   "id": "polyphonic-manual",
   "metadata": {},
   "outputs": [],
   "source": [
    "# Library imports\n",
    "import pandas as pd\n",
    "import numpy as np\n",
    "import matplotlib.pyplot as plt\n",
    "import os\n",
    "import seaborn as sns\n",
    "import statsmodels.formula.api as smf"
   ]
  },
  {
   "cell_type": "markdown",
   "id": "temporal-resolution",
   "metadata": {},
   "source": [
    "# Exploring Accidents"
   ]
  },
  {
   "cell_type": "markdown",
   "id": "narrow-numbers",
   "metadata": {},
   "source": [
    "The only information source for car accidents data comes from the data collected by AUSA.<br>\n",
    "AUSA is a private company that is currently the licencee for the only highway in the city of Buenos Aires."
   ]
  },
  {
   "cell_type": "code",
   "execution_count": 2,
   "id": "transsexual-ireland",
   "metadata": {},
   "outputs": [
    {
     "data": {
      "text/plain": [
       "['reclamos-ausa.csv',\n",
       " 'documentacion-seguridad-vial.pdf',\n",
       " '.ipynb_checkpoints',\n",
       " 'intervenciones-de-seguridad-vial.csv']"
      ]
     },
     "execution_count": 2,
     "metadata": {},
     "output_type": "execute_result"
    }
   ],
   "source": [
    "path = os.path.join(os.path.dirname(os.getcwd()), 'raw_data', 'Accidentes')\n",
    "\n",
    "os.listdir(path)"
   ]
  },
  {
   "cell_type": "markdown",
   "id": "square-invalid",
   "metadata": {},
   "source": [
    "Two datasets composed by highway claims and interventions from security staff on highway."
   ]
  },
  {
   "cell_type": "markdown",
   "id": "german-temperature",
   "metadata": {},
   "source": [
    "# Highway Claims"
   ]
  },
  {
   "cell_type": "markdown",
   "id": "apparent-amazon",
   "metadata": {},
   "source": [
    "Opening claims dataframe."
   ]
  },
  {
   "cell_type": "code",
   "execution_count": 3,
   "id": "going-thumb",
   "metadata": {},
   "outputs": [
    {
     "data": {
      "text/html": [
       "<div>\n",
       "<style scoped>\n",
       "    .dataframe tbody tr th:only-of-type {\n",
       "        vertical-align: middle;\n",
       "    }\n",
       "\n",
       "    .dataframe tbody tr th {\n",
       "        vertical-align: top;\n",
       "    }\n",
       "\n",
       "    .dataframe thead th {\n",
       "        text-align: right;\n",
       "    }\n",
       "</style>\n",
       "<table border=\"1\" class=\"dataframe\">\n",
       "  <thead>\n",
       "    <tr style=\"text-align: right;\">\n",
       "      <th></th>\n",
       "      <th>nro_caso</th>\n",
       "      <th>titulo_caso</th>\n",
       "      <th>fecha</th>\n",
       "    </tr>\n",
       "  </thead>\n",
       "  <tbody>\n",
       "    <tr>\n",
       "      <th>0</th>\n",
       "      <td>C00126163</td>\n",
       "      <td>RECLAMOS/VUELTO ERRONEO/FALTANTE</td>\n",
       "      <td>2016-12-01 15:47:26</td>\n",
       "    </tr>\n",
       "    <tr>\n",
       "      <th>1</th>\n",
       "      <td>C00126165</td>\n",
       "      <td>RECLAMOS/DAÑO DEL VEHICULO SOBRE AU./OBJETO</td>\n",
       "      <td>2016-12-01 16:01:31</td>\n",
       "    </tr>\n",
       "    <tr>\n",
       "      <th>2</th>\n",
       "      <td>C00126167</td>\n",
       "      <td>RECLAMOS/DAÑO EN VIA DE PEAJE/VÍA 07 A</td>\n",
       "      <td>2016-12-01 16:13:41</td>\n",
       "    </tr>\n",
       "    <tr>\n",
       "      <th>3</th>\n",
       "      <td>C00126169</td>\n",
       "      <td>RECLAMOS/DAÑO DEL VEHICULO SOBRE AU./AGRESIÓN ...</td>\n",
       "      <td>2016-12-01 16:35:22</td>\n",
       "    </tr>\n",
       "    <tr>\n",
       "      <th>4</th>\n",
       "      <td>C00126171</td>\n",
       "      <td>QUEJAS/TELEPEAJE/DISPOSICIONES DE SERVICIO</td>\n",
       "      <td>2016-12-01 17:15:12</td>\n",
       "    </tr>\n",
       "  </tbody>\n",
       "</table>\n",
       "</div>"
      ],
      "text/plain": [
       "    nro_caso                                        titulo_caso  \\\n",
       "0  C00126163                   RECLAMOS/VUELTO ERRONEO/FALTANTE   \n",
       "1  C00126165        RECLAMOS/DAÑO DEL VEHICULO SOBRE AU./OBJETO   \n",
       "2  C00126167             RECLAMOS/DAÑO EN VIA DE PEAJE/VÍA 07 A   \n",
       "3  C00126169  RECLAMOS/DAÑO DEL VEHICULO SOBRE AU./AGRESIÓN ...   \n",
       "4  C00126171         QUEJAS/TELEPEAJE/DISPOSICIONES DE SERVICIO   \n",
       "\n",
       "                 fecha  \n",
       "0  2016-12-01 15:47:26  \n",
       "1  2016-12-01 16:01:31  \n",
       "2  2016-12-01 16:13:41  \n",
       "3  2016-12-01 16:35:22  \n",
       "4  2016-12-01 17:15:12  "
      ]
     },
     "execution_count": 3,
     "metadata": {},
     "output_type": "execute_result"
    }
   ],
   "source": [
    "claims = pd.read_csv(os.path.join(path, 'reclamos-ausa.csv'))\n",
    "claims.head()"
   ]
  },
  {
   "cell_type": "markdown",
   "id": "requested-score",
   "metadata": {},
   "source": [
    "Claims dataset has 3 features:\n",
    "\n",
    "\n",
    "- `nro_caso` case number or case ID\n",
    "- `titulo_caso` case title\n",
    "- `fecha` date"
   ]
  },
  {
   "cell_type": "code",
   "execution_count": 4,
   "id": "prospective-sphere",
   "metadata": {},
   "outputs": [
    {
     "data": {
      "text/plain": [
       "['RECLAMOS', 'VUELTO ERRONEO', 'FALTANTE']"
      ]
     },
     "execution_count": 4,
     "metadata": {},
     "output_type": "execute_result"
    }
   ],
   "source": [
    "claims.titulo_caso[0].split('/')"
   ]
  },
  {
   "cell_type": "markdown",
   "id": "relative-proposition",
   "metadata": {},
   "source": [
    "A closer look to `titulo_caso` column shows us that it's composed of three parts that we could call: `category`, `subcategory` and `description`.  \n",
    "\n",
    "We'll create new features for better comprehension of the data."
   ]
  },
  {
   "cell_type": "code",
   "execution_count": 5,
   "id": "agricultural-delicious",
   "metadata": {},
   "outputs": [],
   "source": [
    "# Lists to be populated during loop\n",
    "categories = []\n",
    "subcategories = []\n",
    "descriptions = []\n",
    "\n",
    "for claim in claims.titulo_caso:\n",
    "    # Dividing information\n",
    "    category = claim.split('/')[0]\n",
    "    subcategory = claim.split('/')[1]\n",
    "    description = claim.split('/')[2]\n",
    "    # Inserting information into lists\n",
    "    categories.append(category)\n",
    "    subcategories.append(subcategory)\n",
    "    descriptions.append(description)\n",
    "\n",
    "# New features\n",
    "claims['category'] = categories\n",
    "claims['subcategory'] = subcategories\n",
    "claims['description'] = descriptions"
   ]
  },
  {
   "cell_type": "markdown",
   "id": "magnetic-marketing",
   "metadata": {},
   "source": [
    "With the new features created there's no need to keep the original column nor the `nro_caso` column as it doesn't provide any information either."
   ]
  },
  {
   "cell_type": "code",
   "execution_count": 6,
   "id": "thousand-anime",
   "metadata": {},
   "outputs": [],
   "source": [
    "claims.drop(columns=['nro_caso', 'titulo_caso'], inplace=True)"
   ]
  },
  {
   "cell_type": "markdown",
   "id": "sonic-courtesy",
   "metadata": {},
   "source": [
    "Let's take a look at the dataset now:"
   ]
  },
  {
   "cell_type": "code",
   "execution_count": 7,
   "id": "faced-county",
   "metadata": {},
   "outputs": [
    {
     "data": {
      "text/html": [
       "<div>\n",
       "<style scoped>\n",
       "    .dataframe tbody tr th:only-of-type {\n",
       "        vertical-align: middle;\n",
       "    }\n",
       "\n",
       "    .dataframe tbody tr th {\n",
       "        vertical-align: top;\n",
       "    }\n",
       "\n",
       "    .dataframe thead th {\n",
       "        text-align: right;\n",
       "    }\n",
       "</style>\n",
       "<table border=\"1\" class=\"dataframe\">\n",
       "  <thead>\n",
       "    <tr style=\"text-align: right;\">\n",
       "      <th></th>\n",
       "      <th>date</th>\n",
       "      <th>category</th>\n",
       "      <th>subcategory</th>\n",
       "      <th>description</th>\n",
       "    </tr>\n",
       "  </thead>\n",
       "  <tbody>\n",
       "    <tr>\n",
       "      <th>0</th>\n",
       "      <td>2016-12-01 15:47:26</td>\n",
       "      <td>RECLAMOS</td>\n",
       "      <td>VUELTO ERRONEO</td>\n",
       "      <td>FALTANTE</td>\n",
       "    </tr>\n",
       "    <tr>\n",
       "      <th>1</th>\n",
       "      <td>2016-12-01 16:01:31</td>\n",
       "      <td>RECLAMOS</td>\n",
       "      <td>DAÑO DEL VEHICULO SOBRE AU.</td>\n",
       "      <td>OBJETO</td>\n",
       "    </tr>\n",
       "    <tr>\n",
       "      <th>2</th>\n",
       "      <td>2016-12-01 16:13:41</td>\n",
       "      <td>RECLAMOS</td>\n",
       "      <td>DAÑO EN VIA DE PEAJE</td>\n",
       "      <td>VÍA 07 A</td>\n",
       "    </tr>\n",
       "    <tr>\n",
       "      <th>3</th>\n",
       "      <td>2016-12-01 16:35:22</td>\n",
       "      <td>RECLAMOS</td>\n",
       "      <td>DAÑO DEL VEHICULO SOBRE AU.</td>\n",
       "      <td>AGRESIÓN POR TERCEROS</td>\n",
       "    </tr>\n",
       "    <tr>\n",
       "      <th>4</th>\n",
       "      <td>2016-12-01 17:15:12</td>\n",
       "      <td>QUEJAS</td>\n",
       "      <td>TELEPEAJE</td>\n",
       "      <td>DISPOSICIONES DE SERVICIO</td>\n",
       "    </tr>\n",
       "  </tbody>\n",
       "</table>\n",
       "</div>"
      ],
      "text/plain": [
       "                  date  category                  subcategory  \\\n",
       "0  2016-12-01 15:47:26  RECLAMOS               VUELTO ERRONEO   \n",
       "1  2016-12-01 16:01:31  RECLAMOS  DAÑO DEL VEHICULO SOBRE AU.   \n",
       "2  2016-12-01 16:13:41  RECLAMOS         DAÑO EN VIA DE PEAJE   \n",
       "3  2016-12-01 16:35:22  RECLAMOS  DAÑO DEL VEHICULO SOBRE AU.   \n",
       "4  2016-12-01 17:15:12    QUEJAS                    TELEPEAJE   \n",
       "\n",
       "                 description  \n",
       "0                   FALTANTE  \n",
       "1                     OBJETO  \n",
       "2                   VÍA 07 A  \n",
       "3      AGRESIÓN POR TERCEROS  \n",
       "4  DISPOSICIONES DE SERVICIO  "
      ]
     },
     "execution_count": 7,
     "metadata": {},
     "output_type": "execute_result"
    }
   ],
   "source": [
    "claims.columns = ['date', 'category', 'subcategory', 'description']\n",
    "\n",
    "claims.head()"
   ]
  },
  {
   "cell_type": "code",
   "execution_count": 8,
   "id": "daily-resource",
   "metadata": {},
   "outputs": [
    {
     "data": {
      "text/html": [
       "<div>\n",
       "<style scoped>\n",
       "    .dataframe tbody tr th:only-of-type {\n",
       "        vertical-align: middle;\n",
       "    }\n",
       "\n",
       "    .dataframe tbody tr th {\n",
       "        vertical-align: top;\n",
       "    }\n",
       "\n",
       "    .dataframe thead th {\n",
       "        text-align: right;\n",
       "    }\n",
       "</style>\n",
       "<table border=\"1\" class=\"dataframe\">\n",
       "  <thead>\n",
       "    <tr style=\"text-align: right;\">\n",
       "      <th></th>\n",
       "      <th>date</th>\n",
       "      <th>category</th>\n",
       "      <th>subcategory</th>\n",
       "      <th>description</th>\n",
       "    </tr>\n",
       "  </thead>\n",
       "  <tbody>\n",
       "    <tr>\n",
       "      <th>5654</th>\n",
       "      <td>2019-04-20 10:00:21</td>\n",
       "      <td>QUEJAS</td>\n",
       "      <td>MALA ATENCION</td>\n",
       "      <td>A completar</td>\n",
       "    </tr>\n",
       "    <tr>\n",
       "      <th>5655</th>\n",
       "      <td>2019-04-20 15:00:24</td>\n",
       "      <td>QUEJAS</td>\n",
       "      <td>EN GENERAL</td>\n",
       "      <td>A completar</td>\n",
       "    </tr>\n",
       "    <tr>\n",
       "      <th>5656</th>\n",
       "      <td>2019-04-22 11:00:24</td>\n",
       "      <td>RECLAMOS</td>\n",
       "      <td>VUELTO ERRONEO</td>\n",
       "      <td>A completar</td>\n",
       "    </tr>\n",
       "    <tr>\n",
       "      <th>5657</th>\n",
       "      <td>2019-04-23 10:30:10</td>\n",
       "      <td>QUEJAS</td>\n",
       "      <td>PEAJE</td>\n",
       "      <td>A completar</td>\n",
       "    </tr>\n",
       "    <tr>\n",
       "      <th>5658</th>\n",
       "      <td>2019-04-23 10:30:20</td>\n",
       "      <td>QUEJAS</td>\n",
       "      <td>EN GENERAL</td>\n",
       "      <td>A completar</td>\n",
       "    </tr>\n",
       "  </tbody>\n",
       "</table>\n",
       "</div>"
      ],
      "text/plain": [
       "                     date  category     subcategory   description\n",
       "5654  2019-04-20 10:00:21    QUEJAS   MALA ATENCION  A completar \n",
       "5655  2019-04-20 15:00:24    QUEJAS      EN GENERAL  A completar \n",
       "5656  2019-04-22 11:00:24  RECLAMOS  VUELTO ERRONEO  A completar \n",
       "5657  2019-04-23 10:30:10    QUEJAS           PEAJE  A completar \n",
       "5658  2019-04-23 10:30:20    QUEJAS      EN GENERAL  A completar "
      ]
     },
     "execution_count": 8,
     "metadata": {},
     "output_type": "execute_result"
    }
   ],
   "source": [
    "claims.tail()"
   ]
  },
  {
   "cell_type": "markdown",
   "id": "working-knitting",
   "metadata": {},
   "source": [
    "For data consistency let's ensure everything is in *uppercase* and with no trailing whitespaces. "
   ]
  },
  {
   "cell_type": "code",
   "execution_count": 9,
   "id": "green-delivery",
   "metadata": {},
   "outputs": [],
   "source": [
    "for feature in claims:\n",
    "    claims[feature] = claims[feature].str.upper().str.strip()"
   ]
  },
  {
   "cell_type": "markdown",
   "id": "realistic-fifteen",
   "metadata": {},
   "source": [
    "Let's explore the `category` feature:"
   ]
  },
  {
   "cell_type": "code",
   "execution_count": 10,
   "id": "middle-problem",
   "metadata": {},
   "outputs": [
    {
     "data": {
      "image/png": "[encoded data removed]",
      "text/plain": [
       "<Figure size 648x504 with 1 Axes>"
      ]
     },
     "metadata": {},
     "output_type": "display_data"
    }
   ],
   "source": [
    "sns.set_theme()\n",
    "plt.figure(figsize=(9,7))\n",
    "plt.title('Categories in % of total', loc = 'center', size = 18, \n",
    "                pad = 10, fontweight = 'bold', color = 'gray')\n",
    "ax = sns.barplot(y=claims.category.value_counts().index, x=claims.category.value_counts(normalize=True) * 100);"
   ]
  },
  {
   "cell_type": "markdown",
   "id": "valuable-halloween",
   "metadata": {},
   "source": [
    "We can easily see that `RECLAMOS` with 70% (ie. \"Demands\") and `QUEJAS` with ~30% (ie. \"Complaints\") are the most frecuent categories.\n",
    "\n",
    "We'll analize them separetly to get more details. \n",
    "\n",
    "First, we'll get into `RECLAMOS` and create a `demands` dataframe to use."
   ]
  },
  {
   "cell_type": "code",
   "execution_count": 11,
   "id": "cutting-lightweight",
   "metadata": {},
   "outputs": [
    {
     "data": {
      "text/plain": [
       "3965"
      ]
     },
     "execution_count": 11,
     "metadata": {},
     "output_type": "execute_result"
    }
   ],
   "source": [
    "demands = claims[claims.category == 'RECLAMOS'].drop(columns = ['category'])\n",
    "len(demands)"
   ]
  },
  {
   "cell_type": "markdown",
   "id": "reasonable-shepherd",
   "metadata": {},
   "source": [
    "Top 5 subcategories are almost 98% of the total demands, so let's focus on them."
   ]
  },
  {
   "cell_type": "code",
   "execution_count": 12,
   "id": "norwegian-sitting",
   "metadata": {},
   "outputs": [
    {
     "data": {
      "text/plain": [
       "97.55"
      ]
     },
     "execution_count": 12,
     "metadata": {},
     "output_type": "execute_result"
    }
   ],
   "source": [
    "round(demands.subcategory.value_counts().head().sum() / len(demands) *100, 2)"
   ]
  },
  {
   "cell_type": "code",
   "execution_count": 13,
   "id": "several-magazine",
   "metadata": {},
   "outputs": [
    {
     "data": {
      "image/png": "[encoded data removed]",
      "text/plain": [
       "<Figure size 648x504 with 1 Axes>"
      ]
     },
     "metadata": {},
     "output_type": "display_data"
    }
   ],
   "source": [
    "plt.figure(figsize=(9,7))\n",
    "plt.title('Subcategories in % of total Demands', loc = 'center', size = 18, \n",
    "                pad = 10, fontweight = 'bold', color = 'gray')\n",
    "\n",
    "sns.barplot(y=demands.subcategory.value_counts().head().index,\n",
    "            x=demands.subcategory.value_counts(normalize=True).head()*100);"
   ]
  },
  {
   "cell_type": "code",
   "execution_count": 14,
   "id": "mental-apple",
   "metadata": {},
   "outputs": [
    {
     "data": {
      "text/plain": [
       "73.32"
      ]
     },
     "execution_count": 14,
     "metadata": {},
     "output_type": "execute_result"
    }
   ],
   "source": [
    "round(len(demands[demands.subcategory.str.contains('DAÑO')]) / len(demands) *100, 2)"
   ]
  },
  {
   "cell_type": "markdown",
   "id": "about-architect",
   "metadata": {},
   "source": [
    "So a little bit over 70% of the `demands` are related to `damages` (\"*DAÑO..*\").\n",
    "\n",
    "Let's inspect these `damages` to see if we can get some insights."
   ]
  },
  {
   "cell_type": "code",
   "execution_count": 15,
   "id": "armed-forwarding",
   "metadata": {},
   "outputs": [
    {
     "name": "stdout",
     "output_type": "stream",
     "text": [
      "Number of possible explanations for damages: \n",
      "125\n"
     ]
    }
   ],
   "source": [
    "print(f\"\"\"Number of possible explanations for damages: \n",
    "{demands[demands.subcategory.str.contains('DAÑO')].description.nunique()}\"\"\")"
   ]
  },
  {
   "cell_type": "markdown",
   "id": "removable-corpus",
   "metadata": {},
   "source": [
    "As we could imagine, there's a lot of possible explanations to these `damages`. \n",
    "\n",
    "Let's see if we could narrow them up using a Pareto approach:\n",
    "\n",
    "20% of 125 is 25, so let's see how much the top 25 explanations impact on the total."
   ]
  },
  {
   "cell_type": "code",
   "execution_count": 16,
   "id": "caroline-august",
   "metadata": {},
   "outputs": [
    {
     "name": "stdout",
     "output_type": "stream",
     "text": [
      "Percentage of damages explained by top 20% features:\n",
      "79.32576539387685\n"
     ]
    }
   ],
   "source": [
    "print(f\"\"\"Percentage of damages explained by top 20% features:\n",
    "{demands[demands.subcategory.str.contains('DAÑO')].description.value_counts().head(25).sum() /\n",
    "len(demands[demands.subcategory.str.contains('DAÑO')]) *100}\"\"\")"
   ]
  },
  {
   "cell_type": "markdown",
   "id": "connected-sociology",
   "metadata": {},
   "source": [
    "🙌🏽 \n",
    "\n",
    "So that's a happy coincidence 😅"
   ]
  },
  {
   "cell_type": "code",
   "execution_count": 17,
   "id": "bacterial-buffalo",
   "metadata": {},
   "outputs": [
    {
     "data": {
      "image/png": "[encoded data removed]",
      "text/plain": [
       "<Figure size 648x504 with 1 Axes>"
      ]
     },
     "metadata": {},
     "output_type": "display_data"
    }
   ],
   "source": [
    "x = demands[demands.subcategory.str.contains('DAÑO')].description.value_counts(normalize=True).head(25) * 100\n",
    "y = demands[demands.subcategory.str.contains('DAÑO')].description.value_counts(normalize=True).head(25).index\n",
    "\n",
    "plt.figure(figsize=(9,7))\n",
    "plt.title('Explanations in % of total Damages demands', loc = 'center', size = 18, \n",
    "                pad = 10, fontweight = 'bold', color = 'gray')\n",
    "sns.barplot(y=y, x=x);"
   ]
  },
  {
   "cell_type": "code",
   "execution_count": 18,
   "id": "digital-soviet",
   "metadata": {},
   "outputs": [
    {
     "data": {
      "text/plain": [
       "0.8770287141073658"
      ]
     },
     "execution_count": 18,
     "metadata": {},
     "output_type": "execute_result"
    }
   ],
   "source": [
    "claims[claims.category == 'QUEJAS'].subcategory.value_counts().head().sum() / len(claims[claims.category == 'QUEJAS'])"
   ]
  },
  {
   "cell_type": "code",
   "execution_count": 19,
   "id": "dress-apparel",
   "metadata": {},
   "outputs": [
    {
     "data": {
      "image/png": "[encoded data removed]",
      "text/plain": [
       "<Figure size 648x504 with 1 Axes>"
      ]
     },
     "metadata": {},
     "output_type": "display_data"
    }
   ],
   "source": [
    "x = claims[claims.category == 'QUEJAS'].subcategory.value_counts(normalize=True).head() * 100\n",
    "y = claims[claims.category == 'QUEJAS'].subcategory.value_counts().head().index\n",
    "\n",
    "plt.figure(figsize=(9,7))\n",
    "plt.title('Reasons for complaints in %', loc = 'center', size = 18, \n",
    "                pad = 10, fontweight = 'bold', color = 'gray')\n",
    "sns.barplot(y=y, x=x);"
   ]
  },
  {
   "cell_type": "markdown",
   "id": "alien-asset",
   "metadata": {},
   "source": [
    "# Accident Reports"
   ]
  },
  {
   "cell_type": "markdown",
   "id": "equivalent-disco",
   "metadata": {},
   "source": [
    "Opening accident reports dataset."
   ]
  },
  {
   "cell_type": "code",
   "execution_count": 20,
   "id": "recent-ceiling",
   "metadata": {},
   "outputs": [
    {
     "data": {
      "text/html": [
       "<div>\n",
       "<style scoped>\n",
       "    .dataframe tbody tr th:only-of-type {\n",
       "        vertical-align: middle;\n",
       "    }\n",
       "\n",
       "    .dataframe tbody tr th {\n",
       "        vertical-align: top;\n",
       "    }\n",
       "\n",
       "    .dataframe thead th {\n",
       "        text-align: right;\n",
       "    }\n",
       "</style>\n",
       "<table border=\"1\" class=\"dataframe\">\n",
       "  <thead>\n",
       "    <tr style=\"text-align: right;\">\n",
       "      <th></th>\n",
       "      <th>periodo</th>\n",
       "      <th>fecha</th>\n",
       "      <th>hora</th>\n",
       "      <th>autopista</th>\n",
       "      <th>banda_y_o_ramal</th>\n",
       "      <th>pk</th>\n",
       "      <th>condiciones_meteorologicas</th>\n",
       "      <th>superficie_de_la_via</th>\n",
       "      <th>lesionados</th>\n",
       "      <th>fallecidos</th>\n",
       "      <th>tipo_de_siniestro</th>\n",
       "      <th>moto</th>\n",
       "      <th>liviano</th>\n",
       "      <th>bus</th>\n",
       "      <th>camion</th>\n",
       "    </tr>\n",
       "  </thead>\n",
       "  <tbody>\n",
       "    <tr>\n",
       "      <th>0</th>\n",
       "      <td>201401</td>\n",
       "      <td>2014-01-01</td>\n",
       "      <td>1</td>\n",
       "      <td>AU CAMPORA</td>\n",
       "      <td>ASCENDENTE</td>\n",
       "      <td>600</td>\n",
       "      <td>BUENO</td>\n",
       "      <td>SECA</td>\n",
       "      <td>1</td>\n",
       "      <td>0</td>\n",
       "      <td>COLISION CON OBSTACULO FIJO</td>\n",
       "      <td>0</td>\n",
       "      <td>1</td>\n",
       "      <td>0</td>\n",
       "      <td>0</td>\n",
       "    </tr>\n",
       "    <tr>\n",
       "      <th>1</th>\n",
       "      <td>201401</td>\n",
       "      <td>2014-01-01</td>\n",
       "      <td>3</td>\n",
       "      <td>AU DELLEPIANE</td>\n",
       "      <td>DESCENDENTE</td>\n",
       "      <td>600</td>\n",
       "      <td>BUENO</td>\n",
       "      <td>SECA</td>\n",
       "      <td>0</td>\n",
       "      <td>0</td>\n",
       "      <td>COLISION CON OBSTACULO FIJO</td>\n",
       "      <td>0</td>\n",
       "      <td>1</td>\n",
       "      <td>0</td>\n",
       "      <td>0</td>\n",
       "    </tr>\n",
       "    <tr>\n",
       "      <th>2</th>\n",
       "      <td>201401</td>\n",
       "      <td>2014-01-01</td>\n",
       "      <td>22</td>\n",
       "      <td>AU 25 DE MAYO</td>\n",
       "      <td>ASCENDENTE</td>\n",
       "      <td>5900</td>\n",
       "      <td>BUENO</td>\n",
       "      <td>SECA</td>\n",
       "      <td>8</td>\n",
       "      <td>0</td>\n",
       "      <td>COLISION CON DOS O MAS VEHICULOS</td>\n",
       "      <td>0</td>\n",
       "      <td>2</td>\n",
       "      <td>0</td>\n",
       "      <td>0</td>\n",
       "    </tr>\n",
       "    <tr>\n",
       "      <th>3</th>\n",
       "      <td>201401</td>\n",
       "      <td>2014-03-01</td>\n",
       "      <td>7</td>\n",
       "      <td>AU CAMPORA</td>\n",
       "      <td>DESCENDENTE</td>\n",
       "      <td>600</td>\n",
       "      <td>BUENO</td>\n",
       "      <td>SECA</td>\n",
       "      <td>0</td>\n",
       "      <td>0</td>\n",
       "      <td>OBSTACULO NO FIJO</td>\n",
       "      <td>0</td>\n",
       "      <td>0</td>\n",
       "      <td>0</td>\n",
       "      <td>1</td>\n",
       "    </tr>\n",
       "    <tr>\n",
       "      <th>4</th>\n",
       "      <td>201401</td>\n",
       "      <td>2014-03-01</td>\n",
       "      <td>21</td>\n",
       "      <td>AU PERTIO MORENO</td>\n",
       "      <td>DESCENDENTE</td>\n",
       "      <td>5400</td>\n",
       "      <td>BUENO</td>\n",
       "      <td>SECA</td>\n",
       "      <td>1</td>\n",
       "      <td>0</td>\n",
       "      <td>COLISION CON OBSTACULO FIJO</td>\n",
       "      <td>0</td>\n",
       "      <td>2</td>\n",
       "      <td>0</td>\n",
       "      <td>0</td>\n",
       "    </tr>\n",
       "  </tbody>\n",
       "</table>\n",
       "</div>"
      ],
      "text/plain": [
       "   periodo       fecha  hora         autopista banda_y_o_ramal    pk  \\\n",
       "0   201401  2014-01-01     1        AU CAMPORA      ASCENDENTE   600   \n",
       "1   201401  2014-01-01     3     AU DELLEPIANE     DESCENDENTE   600   \n",
       "2   201401  2014-01-01    22     AU 25 DE MAYO      ASCENDENTE  5900   \n",
       "3   201401  2014-03-01     7        AU CAMPORA     DESCENDENTE   600   \n",
       "4   201401  2014-03-01    21  AU PERTIO MORENO     DESCENDENTE  5400   \n",
       "\n",
       "  condiciones_meteorologicas superficie_de_la_via  lesionados  fallecidos  \\\n",
       "0                      BUENO                 SECA           1           0   \n",
       "1                      BUENO                 SECA           0           0   \n",
       "2                      BUENO                 SECA           8           0   \n",
       "3                      BUENO                 SECA           0           0   \n",
       "4                      BUENO                 SECA           1           0   \n",
       "\n",
       "                  tipo_de_siniestro  moto  liviano  bus  camion  \n",
       "0       COLISION CON OBSTACULO FIJO     0        1    0       0  \n",
       "1       COLISION CON OBSTACULO FIJO     0        1    0       0  \n",
       "2  COLISION CON DOS O MAS VEHICULOS     0        2    0       0  \n",
       "3                 OBSTACULO NO FIJO     0        0    0       1  \n",
       "4       COLISION CON OBSTACULO FIJO     0        2    0       0  "
      ]
     },
     "execution_count": 20,
     "metadata": {},
     "output_type": "execute_result"
    }
   ],
   "source": [
    "accidents = pd.read_csv(os.path.join(path, 'intervenciones-de-seguridad-vial.csv'))\n",
    "accidents.head()"
   ]
  },
  {
   "cell_type": "markdown",
   "id": "individual-intake",
   "metadata": {},
   "source": [
    "✅ No null values"
   ]
  },
  {
   "cell_type": "code",
   "execution_count": 21,
   "id": "weird-underground",
   "metadata": {},
   "outputs": [
    {
     "data": {
      "text/plain": [
       "periodo                       0\n",
       "fecha                         0\n",
       "hora                          0\n",
       "autopista                     0\n",
       "banda_y_o_ramal               0\n",
       "pk                            0\n",
       "condiciones_meteorologicas    0\n",
       "superficie_de_la_via          0\n",
       "lesionados                    0\n",
       "fallecidos                    0\n",
       "tipo_de_siniestro             0\n",
       "moto                          0\n",
       "liviano                       0\n",
       "bus                           0\n",
       "camion                        0\n",
       "dtype: int64"
      ]
     },
     "execution_count": 21,
     "metadata": {},
     "output_type": "execute_result"
    }
   ],
   "source": [
    "accidents.isna().sum()"
   ]
  },
  {
   "cell_type": "markdown",
   "id": "enormous-mexico",
   "metadata": {},
   "source": [
    "We'll have to convert `fecha` into datetime format."
   ]
  },
  {
   "cell_type": "code",
   "execution_count": 22,
   "id": "perfect-coffee",
   "metadata": {},
   "outputs": [
    {
     "name": "stdout",
     "output_type": "stream",
     "text": [
      "<class 'pandas.core.frame.DataFrame'>\n",
      "RangeIndex: 6962 entries, 0 to 6961\n",
      "Data columns (total 15 columns):\n",
      " #   Column                      Non-Null Count  Dtype \n",
      "---  ------                      --------------  ----- \n",
      " 0   periodo                     6962 non-null   int64 \n",
      " 1   fecha                       6962 non-null   object\n",
      " 2   hora                        6962 non-null   int64 \n",
      " 3   autopista                   6962 non-null   object\n",
      " 4   banda_y_o_ramal             6962 non-null   object\n",
      " 5   pk                          6962 non-null   object\n",
      " 6   condiciones_meteorologicas  6962 non-null   object\n",
      " 7   superficie_de_la_via        6962 non-null   object\n",
      " 8   lesionados                  6962 non-null   int64 \n",
      " 9   fallecidos                  6962 non-null   int64 \n",
      " 10  tipo_de_siniestro           6962 non-null   object\n",
      " 11  moto                        6962 non-null   int64 \n",
      " 12  liviano                     6962 non-null   int64 \n",
      " 13  bus                         6962 non-null   int64 \n",
      " 14  camion                      6962 non-null   int64 \n",
      "dtypes: int64(8), object(7)\n",
      "memory usage: 816.0+ KB\n"
     ]
    }
   ],
   "source": [
    "accidents.info()"
   ]
  },
  {
   "cell_type": "markdown",
   "id": "automatic-harrison",
   "metadata": {},
   "source": [
    "Specific dates have mixed formatting (uses '-' and '/' as separators), so that implies a bit of preprocessing for it to be useful"
   ]
  },
  {
   "cell_type": "code",
   "execution_count": 23,
   "id": "ranging-deposit",
   "metadata": {},
   "outputs": [
    {
     "data": {
      "text/plain": [
       "array(['2014-01-01', '2014-03-01', '2014-04-01', ..., '25/02/2021',\n",
       "       '26/02/2021', '28/02/2021'], dtype=object)"
      ]
     },
     "execution_count": 23,
     "metadata": {},
     "output_type": "execute_result"
    }
   ],
   "source": [
    "accidents.fecha.unique()"
   ]
  },
  {
   "cell_type": "code",
   "execution_count": 24,
   "id": "physical-suspension",
   "metadata": {},
   "outputs": [
    {
     "data": {
      "text/plain": [
       "array(['2014-01-01T00:00:00.000000000', '2014-03-01T00:00:00.000000000',\n",
       "       '2014-04-01T00:00:00.000000000', ...,\n",
       "       '2021-02-25T00:00:00.000000000', '2021-02-26T00:00:00.000000000',\n",
       "       '2021-02-28T00:00:00.000000000'], dtype='datetime64[ns]')"
      ]
     },
     "execution_count": 24,
     "metadata": {},
     "output_type": "execute_result"
    }
   ],
   "source": [
    "accidents.fecha = pd.to_datetime(accidents.fecha)\n",
    "accidents.fecha.unique()"
   ]
  },
  {
   "cell_type": "markdown",
   "id": "complete-investing",
   "metadata": {},
   "source": [
    "We have data for 2021 which could generate some noise in the aggregate as it's not a complete year.\n",
    "\n",
    "We'll drop for consistency."
   ]
  },
  {
   "cell_type": "code",
   "execution_count": 25,
   "id": "damaged-computer",
   "metadata": {},
   "outputs": [],
   "source": [
    "accidents.drop(index=accidents[accidents.fecha.dt.year == 2021].index, inplace=True)"
   ]
  },
  {
   "cell_type": "code",
   "execution_count": 26,
   "id": "changing-diagnosis",
   "metadata": {},
   "outputs": [
    {
     "data": {
      "image/png": "[encoded data removed]",
      "text/plain": [
       "<Figure size 648x504 with 1 Axes>"
      ]
     },
     "metadata": {},
     "output_type": "display_data"
    }
   ],
   "source": [
    "plt.figure(figsize=(9,7))\n",
    "plt.plot(accidents.groupby(accidents.fecha.dt.year)['periodo'].count())\n",
    "plt.xlabel('Year')\n",
    "plt.ylabel('Amount of Accidents Reported')\n",
    "plt.title('Accidents Reported per Year since 2014');"
   ]
  },
  {
   "cell_type": "code",
   "execution_count": 27,
   "id": "apparent-dispute",
   "metadata": {},
   "outputs": [
    {
     "data": {
      "image/png": "[encoded data removed]",
      "text/plain": [
       "<Figure size 648x504 with 1 Axes>"
      ]
     },
     "metadata": {},
     "output_type": "display_data"
    }
   ],
   "source": [
    "plt.figure(figsize=(9,7))\n",
    "plt.plot(accidents.groupby(accidents.fecha.dt.month)['periodo'].count())\n",
    "plt.xlabel('Month')\n",
    "plt.ylabel('Amount of Accidents Reported')\n",
    "plt.title('Accidents Reported per Month since 2014');"
   ]
  },
  {
   "cell_type": "code",
   "execution_count": 28,
   "id": "governing-cattle",
   "metadata": {},
   "outputs": [
    {
     "data": {
      "image/png": "[encoded data removed]",
      "text/plain": [
       "<Figure size 648x504 with 1 Axes>"
      ]
     },
     "metadata": {},
     "output_type": "display_data"
    }
   ],
   "source": [
    "week_days = ['Monday', 'Tuesday', 'Wednesday', 'Thursday', 'Friday', 'Saturday', 'Sunday'] \n",
    "plt.figure(figsize=(9,7))\n",
    "plt.plot(week_days, accidents.groupby(accidents.fecha.dt.weekday)['periodo'].count())\n",
    "plt.xlabel('Week Day')\n",
    "plt.ylabel('Amount of Accidents Reported')\n",
    "plt.title('Accidents Reported per Week Day since 2014');"
   ]
  },
  {
   "cell_type": "code",
   "execution_count": 29,
   "id": "bright-fourth",
   "metadata": {},
   "outputs": [
    {
     "data": {
      "image/png": "[encoded data removed]",
      "text/plain": [
       "<Figure size 648x504 with 1 Axes>"
      ]
     },
     "metadata": {},
     "output_type": "display_data"
    }
   ],
   "source": [
    "plt.figure(figsize=(9,7))\n",
    "plt.plot(accidents.groupby(accidents.hora)['periodo'].count())\n",
    "plt.xlabel('Hour')\n",
    "plt.ylabel('Amount of Accidents Reported')\n",
    "plt.title('Accidents Reported per Hour since 2014');"
   ]
  },
  {
   "cell_type": "code",
   "execution_count": 30,
   "id": "behind-mason",
   "metadata": {},
   "outputs": [
    {
     "data": {
      "text/plain": [
       "Index(['periodo', 'fecha', 'hora', 'autopista', 'banda_y_o_ramal', 'pk',\n",
       "       'condiciones_meteorologicas', 'superficie_de_la_via', 'lesionados',\n",
       "       'fallecidos', 'tipo_de_siniestro', 'moto', 'liviano', 'bus', 'camion'],\n",
       "      dtype='object')"
      ]
     },
     "execution_count": 30,
     "metadata": {},
     "output_type": "execute_result"
    }
   ],
   "source": [
    "accidents.columns"
   ]
  },
  {
   "cell_type": "code",
   "execution_count": 31,
   "id": "possible-defendant",
   "metadata": {},
   "outputs": [],
   "source": [
    "accidents['dia'] = accidents.fecha.dt.weekday"
   ]
  },
  {
   "cell_type": "code",
   "execution_count": 32,
   "id": "going-prague",
   "metadata": {},
   "outputs": [
    {
     "data": {
      "text/plain": [
       "0    6800\n",
       "1      55\n",
       "2       1\n",
       "Name: fallecidos, dtype: int64"
      ]
     },
     "execution_count": 32,
     "metadata": {},
     "output_type": "execute_result"
    }
   ],
   "source": [
    "accidents.fallecidos.value_counts()"
   ]
  },
  {
   "cell_type": "code",
   "execution_count": 33,
   "id": "terminal-choice",
   "metadata": {},
   "outputs": [],
   "source": [
    "accidents.drop(accidents[accidents.fallecidos == 2].index, inplace=True)"
   ]
  },
  {
   "cell_type": "code",
   "execution_count": 34,
   "id": "animal-miami",
   "metadata": {},
   "outputs": [
    {
     "data": {
      "text/plain": [
       "0    6800\n",
       "1      55\n",
       "Name: fallecidos, dtype: int64"
      ]
     },
     "execution_count": 34,
     "metadata": {},
     "output_type": "execute_result"
    }
   ],
   "source": [
    "accidents.fallecidos.value_counts()"
   ]
  },
  {
   "cell_type": "code",
   "execution_count": 35,
   "id": "interstate-lambda",
   "metadata": {},
   "outputs": [
    {
     "data": {
      "text/plain": [
       "SECA             5746\n",
       "MOJADA/HUMEDA    1092\n",
       "OTRO               15\n",
       "<SD>                1\n",
       "INUNDADA            1\n",
       "Name: superficie_de_la_via, dtype: int64"
      ]
     },
     "execution_count": 35,
     "metadata": {},
     "output_type": "execute_result"
    }
   ],
   "source": [
    "accidents.superficie_de_la_via.value_counts()"
   ]
  },
  {
   "cell_type": "code",
   "execution_count": 36,
   "id": "entitled-massachusetts",
   "metadata": {},
   "outputs": [],
   "source": [
    "accidents.drop(accidents[(accidents.superficie_de_la_via == '<SD>') |\n",
    "                         (accidents.superficie_de_la_via == 'INUNDADA')].index, inplace=True)"
   ]
  },
  {
   "cell_type": "code",
   "execution_count": 37,
   "id": "weird-grove",
   "metadata": {},
   "outputs": [
    {
     "data": {
      "text/plain": [
       "BUENO                   5980\n",
       "LLUVIOSO                 860\n",
       "NIEBLA, BRUMA O HUMO       9\n",
       "VIENTOS FUERTES            3\n",
       "NIEBLA                     1\n",
       "Name: condiciones_meteorologicas, dtype: int64"
      ]
     },
     "execution_count": 37,
     "metadata": {},
     "output_type": "execute_result"
    }
   ],
   "source": [
    "accidents.condiciones_meteorologicas.value_counts()"
   ]
  },
  {
   "cell_type": "code",
   "execution_count": 38,
   "id": "developed-bathroom",
   "metadata": {},
   "outputs": [],
   "source": [
    "accidents.drop(accidents[(accidents.condiciones_meteorologicas == 'NIEBLA') |\n",
    "(accidents.condiciones_meteorologicas == 'VIENTOS FUERTES')].index, inplace=True)"
   ]
  },
  {
   "cell_type": "code",
   "execution_count": 43,
   "id": "organizational-compensation",
   "metadata": {},
   "outputs": [
    {
     "name": "stdout",
     "output_type": "stream",
     "text": [
      "Warning: Maximum number of iterations has been exceeded.\n",
      "         Current function value: 0.040440\n",
      "         Iterations: 50\n"
     ]
    },
    {
     "name": "stderr",
     "output_type": "stream",
     "text": [
      "/home/tomas/.pyenv/versions/3.8.6/lib/python3.8/site-packages/statsmodels/base/model.py:567: ConvergenceWarning: Maximum Likelihood optimization failed to converge. Check mle_retvals\n",
      "  warn(\"Maximum Likelihood optimization failed to converge. \"\n"
     ]
    },
    {
     "data": {
      "text/html": [
       "<table class=\"simpletable\">\n",
       "<caption>MNLogit Regression Results</caption>\n",
       "<tr>\n",
       "  <th>Dep. Variable:</th>      <td>fallecidos</td>    <th>  No. Observations:  </th>  <td>  6849</td>  \n",
       "</tr>\n",
       "<tr>\n",
       "  <th>Model:</th>                <td>MNLogit</td>     <th>  Df Residuals:      </th>  <td>  6834</td>  \n",
       "</tr>\n",
       "<tr>\n",
       "  <th>Method:</th>                 <td>MLE</td>       <th>  Df Model:          </th>  <td>    14</td>  \n",
       "</tr>\n",
       "<tr>\n",
       "  <th>Date:</th>            <td>Tue, 27 Apr 2021</td> <th>  Pseudo R-squ.:     </th>  <td>0.1348</td>  \n",
       "</tr>\n",
       "<tr>\n",
       "  <th>Time:</th>                <td>15:14:31</td>     <th>  Log-Likelihood:    </th> <td> -276.97</td> \n",
       "</tr>\n",
       "<tr>\n",
       "  <th>converged:</th>             <td>False</td>      <th>  LL-Null:           </th> <td> -320.13</td> \n",
       "</tr>\n",
       "<tr>\n",
       "  <th>Covariance Type:</th>     <td>nonrobust</td>    <th>  LLR p-value:       </th> <td>1.878e-12</td>\n",
       "</tr>\n",
       "</table>\n",
       "<table class=\"simpletable\">\n",
       "<tr>\n",
       "                              <th>fallecidos=1</th>                                <th>coef</th>     <th>std err</th>      <th>z</th>      <th>P>|z|</th>  <th>[0.025</th>    <th>0.975]</th>  \n",
       "</tr>\n",
       "<tr>\n",
       "  <th>Intercept</th>                                                            <td>   -6.1890</td> <td>    0.723</td> <td>   -8.561</td> <td> 0.000</td> <td>   -7.606</td> <td>   -4.772</td>\n",
       "</tr>\n",
       "<tr>\n",
       "  <th>C(superficie_de_la_via)[T.OTRO]</th>                                      <td>  -11.0157</td> <td>  675.152</td> <td>   -0.016</td> <td> 0.987</td> <td>-1334.290</td> <td> 1312.258</td>\n",
       "</tr>\n",
       "<tr>\n",
       "  <th>C(superficie_de_la_via)[T.SECA]</th>                                      <td>    0.0423</td> <td>    0.423</td> <td>    0.100</td> <td> 0.920</td> <td>   -0.788</td> <td>    0.872</td>\n",
       "</tr>\n",
       "<tr>\n",
       "  <th>C(tipo_de_siniestro)[T.COLISION CON OBSTACULO FIJO]</th>                  <td>    1.4714</td> <td>    0.384</td> <td>    3.835</td> <td> 0.000</td> <td>    0.719</td> <td>    2.223</td>\n",
       "</tr>\n",
       "<tr>\n",
       "  <th>C(tipo_de_siniestro)[T.CON DOS O MAS VEHICULOS-IMPACTO TRASERO]</th>      <td>  -15.7904</td> <td> 7.58e+04</td> <td>   -0.000</td> <td> 1.000</td> <td>-1.49e+05</td> <td> 1.49e+05</td>\n",
       "</tr>\n",
       "<tr>\n",
       "  <th>C(tipo_de_siniestro)[T.OBSTACULO NO FIJO]</th>                            <td>   -0.3922</td> <td>    0.743</td> <td>   -0.528</td> <td> 0.597</td> <td>   -1.848</td> <td>    1.063</td>\n",
       "</tr>\n",
       "<tr>\n",
       "  <th>C(tipo_de_siniestro)[T.OTRO]</th>                                         <td>  -29.2706</td> <td> 6.57e+06</td> <td>-4.45e-06</td> <td> 1.000</td> <td>-1.29e+07</td> <td> 1.29e+07</td>\n",
       "</tr>\n",
       "<tr>\n",
       "  <th>C(tipo_de_siniestro)[T.OTRO TIPO DE SINIESTRO]</th>                       <td>  -12.9403</td> <td> 1873.293</td> <td>   -0.007</td> <td> 0.994</td> <td>-3684.527</td> <td> 3658.647</td>\n",
       "</tr>\n",
       "<tr>\n",
       "  <th>C(tipo_de_siniestro)[T.SINIESTRO DE UN SOLO VEHICULO / SIN COLISION]</th> <td>   -0.7499</td> <td>    0.582</td> <td>   -1.288</td> <td> 0.198</td> <td>   -1.891</td> <td>    0.391</td>\n",
       "</tr>\n",
       "<tr>\n",
       "  <th>moto</th>                                                                 <td>    1.4530</td> <td>    0.260</td> <td>    5.595</td> <td> 0.000</td> <td>    0.944</td> <td>    1.962</td>\n",
       "</tr>\n",
       "<tr>\n",
       "  <th>liviano</th>                                                              <td>   -0.4793</td> <td>    0.248</td> <td>   -1.930</td> <td> 0.054</td> <td>   -0.966</td> <td>    0.007</td>\n",
       "</tr>\n",
       "<tr>\n",
       "  <th>bus</th>                                                                  <td>    1.1326</td> <td>    0.476</td> <td>    2.382</td> <td> 0.017</td> <td>    0.201</td> <td>    2.065</td>\n",
       "</tr>\n",
       "<tr>\n",
       "  <th>camion</th>                                                               <td>    1.2332</td> <td>    0.235</td> <td>    5.238</td> <td> 0.000</td> <td>    0.772</td> <td>    1.695</td>\n",
       "</tr>\n",
       "<tr>\n",
       "  <th>dia</th>                                                                  <td>    0.0641</td> <td>    0.075</td> <td>    0.850</td> <td> 0.395</td> <td>   -0.084</td> <td>    0.212</td>\n",
       "</tr>\n",
       "<tr>\n",
       "  <th>hora</th>                                                                 <td>    0.0018</td> <td>    0.025</td> <td>    0.070</td> <td> 0.944</td> <td>   -0.048</td> <td>    0.051</td>\n",
       "</tr>\n",
       "</table>"
      ],
      "text/plain": [
       "<class 'statsmodels.iolib.summary.Summary'>\n",
       "\"\"\"\n",
       "                          MNLogit Regression Results                          \n",
       "==============================================================================\n",
       "Dep. Variable:             fallecidos   No. Observations:                 6849\n",
       "Model:                        MNLogit   Df Residuals:                     6834\n",
       "Method:                           MLE   Df Model:                           14\n",
       "Date:                Tue, 27 Apr 2021   Pseudo R-squ.:                  0.1348\n",
       "Time:                        15:14:31   Log-Likelihood:                -276.97\n",
       "converged:                      False   LL-Null:                       -320.13\n",
       "Covariance Type:            nonrobust   LLR p-value:                 1.878e-12\n",
       "========================================================================================================================================\n",
       "                                                        fallecidos=1       coef    std err          z      P>|z|      [0.025      0.975]\n",
       "----------------------------------------------------------------------------------------------------------------------------------------\n",
       "Intercept                                                               -6.1890      0.723     -8.561      0.000      -7.606      -4.772\n",
       "C(superficie_de_la_via)[T.OTRO]                                        -11.0157    675.152     -0.016      0.987   -1334.290    1312.258\n",
       "C(superficie_de_la_via)[T.SECA]                                          0.0423      0.423      0.100      0.920      -0.788       0.872\n",
       "C(tipo_de_siniestro)[T.COLISION CON OBSTACULO FIJO]                      1.4714      0.384      3.835      0.000       0.719       2.223\n",
       "C(tipo_de_siniestro)[T.CON DOS O MAS VEHICULOS-IMPACTO TRASERO]        -15.7904   7.58e+04     -0.000      1.000   -1.49e+05    1.49e+05\n",
       "C(tipo_de_siniestro)[T.OBSTACULO NO FIJO]                               -0.3922      0.743     -0.528      0.597      -1.848       1.063\n",
       "C(tipo_de_siniestro)[T.OTRO]                                           -29.2706   6.57e+06  -4.45e-06      1.000   -1.29e+07    1.29e+07\n",
       "C(tipo_de_siniestro)[T.OTRO TIPO DE SINIESTRO]                         -12.9403   1873.293     -0.007      0.994   -3684.527    3658.647\n",
       "C(tipo_de_siniestro)[T.SINIESTRO DE UN SOLO VEHICULO / SIN COLISION]    -0.7499      0.582     -1.288      0.198      -1.891       0.391\n",
       "moto                                                                     1.4530      0.260      5.595      0.000       0.944       1.962\n",
       "liviano                                                                 -0.4793      0.248     -1.930      0.054      -0.966       0.007\n",
       "bus                                                                      1.1326      0.476      2.382      0.017       0.201       2.065\n",
       "camion                                                                   1.2332      0.235      5.238      0.000       0.772       1.695\n",
       "dia                                                                      0.0641      0.075      0.850      0.395      -0.084       0.212\n",
       "hora                                                                     0.0018      0.025      0.070      0.944      -0.048       0.051\n",
       "========================================================================================================================================\n",
       "\"\"\""
      ]
     },
     "execution_count": 43,
     "metadata": {},
     "output_type": "execute_result"
    }
   ],
   "source": [
    "fallecidos = smf.mnlogit(formula='''fallecidos ~ moto + liviano + bus + camion + dia + hora \n",
    "                         + C(superficie_de_la_via) + C(tipo_de_siniestro)''',\n",
    "                         data=accidents).fit(maxiter=50)\n",
    "fallecidos.summary()"
   ]
  },
  {
   "cell_type": "code",
   "execution_count": 45,
   "id": "enclosed-rainbow",
   "metadata": {},
   "outputs": [
    {
     "data": {
      "text/plain": [
       "Index(['Intercept', 'C(superficie_de_la_via)[T.OTRO]',\n",
       "       'C(superficie_de_la_via)[T.SECA]',\n",
       "       'C(tipo_de_siniestro)[T.COLISION CON OBSTACULO FIJO]',\n",
       "       'C(tipo_de_siniestro)[T.CON DOS O MAS VEHICULOS-IMPACTO TRASERO]',\n",
       "       'C(tipo_de_siniestro)[T.OBSTACULO NO FIJO]',\n",
       "       'C(tipo_de_siniestro)[T.OTRO]',\n",
       "       'C(tipo_de_siniestro)[T.OTRO TIPO DE SINIESTRO]',\n",
       "       'C(tipo_de_siniestro)[T.SINIESTRO DE UN SOLO VEHICULO / SIN COLISION]',\n",
       "       'moto', 'liviano', 'bus', 'camion', 'dia', 'hora'],\n",
       "      dtype='object')"
      ]
     },
     "execution_count": 45,
     "metadata": {},
     "output_type": "execute_result"
    }
   ],
   "source": [
    "fallecidos.params.index"
   ]
  },
  {
   "cell_type": "code",
   "execution_count": 57,
   "id": "attached-tablet",
   "metadata": {},
   "outputs": [
    {
     "data": {
      "text/html": [
       "<div>\n",
       "<style scoped>\n",
       "    .dataframe tbody tr th:only-of-type {\n",
       "        vertical-align: middle;\n",
       "    }\n",
       "\n",
       "    .dataframe tbody tr th {\n",
       "        vertical-align: top;\n",
       "    }\n",
       "\n",
       "    .dataframe thead th {\n",
       "        text-align: right;\n",
       "    }\n",
       "</style>\n",
       "<table border=\"1\" class=\"dataframe\">\n",
       "  <thead>\n",
       "    <tr style=\"text-align: right;\">\n",
       "      <th></th>\n",
       "      <th>0</th>\n",
       "    </tr>\n",
       "  </thead>\n",
       "  <tbody>\n",
       "    <tr>\n",
       "      <th>Intercept</th>\n",
       "      <td>0.000</td>\n",
       "    </tr>\n",
       "    <tr>\n",
       "      <th>C(superficie_de_la_via)[T.OTRO]</th>\n",
       "      <td>0.987</td>\n",
       "    </tr>\n",
       "    <tr>\n",
       "      <th>C(superficie_de_la_via)[T.SECA]</th>\n",
       "      <td>0.920</td>\n",
       "    </tr>\n",
       "    <tr>\n",
       "      <th>C(tipo_de_siniestro)[T.COLISION CON OBSTACULO FIJO]</th>\n",
       "      <td>0.000</td>\n",
       "    </tr>\n",
       "    <tr>\n",
       "      <th>C(tipo_de_siniestro)[T.CON DOS O MAS VEHICULOS-IMPACTO TRASERO]</th>\n",
       "      <td>1.000</td>\n",
       "    </tr>\n",
       "    <tr>\n",
       "      <th>C(tipo_de_siniestro)[T.OBSTACULO NO FIJO]</th>\n",
       "      <td>0.597</td>\n",
       "    </tr>\n",
       "    <tr>\n",
       "      <th>C(tipo_de_siniestro)[T.OTRO]</th>\n",
       "      <td>1.000</td>\n",
       "    </tr>\n",
       "    <tr>\n",
       "      <th>C(tipo_de_siniestro)[T.OTRO TIPO DE SINIESTRO]</th>\n",
       "      <td>0.994</td>\n",
       "    </tr>\n",
       "    <tr>\n",
       "      <th>C(tipo_de_siniestro)[T.SINIESTRO DE UN SOLO VEHICULO / SIN COLISION]</th>\n",
       "      <td>0.198</td>\n",
       "    </tr>\n",
       "    <tr>\n",
       "      <th>moto</th>\n",
       "      <td>0.000</td>\n",
       "    </tr>\n",
       "    <tr>\n",
       "      <th>liviano</th>\n",
       "      <td>0.054</td>\n",
       "    </tr>\n",
       "    <tr>\n",
       "      <th>bus</th>\n",
       "      <td>0.017</td>\n",
       "    </tr>\n",
       "    <tr>\n",
       "      <th>camion</th>\n",
       "      <td>0.000</td>\n",
       "    </tr>\n",
       "    <tr>\n",
       "      <th>dia</th>\n",
       "      <td>0.395</td>\n",
       "    </tr>\n",
       "    <tr>\n",
       "      <th>hora</th>\n",
       "      <td>0.944</td>\n",
       "    </tr>\n",
       "  </tbody>\n",
       "</table>\n",
       "</div>"
      ],
      "text/plain": [
       "                                                        0\n",
       "Intercept                                           0.000\n",
       "C(superficie_de_la_via)[T.OTRO]                     0.987\n",
       "C(superficie_de_la_via)[T.SECA]                     0.920\n",
       "C(tipo_de_siniestro)[T.COLISION CON OBSTACULO F...  0.000\n",
       "C(tipo_de_siniestro)[T.CON DOS O MAS VEHICULOS-...  1.000\n",
       "C(tipo_de_siniestro)[T.OBSTACULO NO FIJO]           0.597\n",
       "C(tipo_de_siniestro)[T.OTRO]                        1.000\n",
       "C(tipo_de_siniestro)[T.OTRO TIPO DE SINIESTRO]      0.994\n",
       "C(tipo_de_siniestro)[T.SINIESTRO DE UN SOLO VEH...  0.198\n",
       "moto                                                0.000\n",
       "liviano                                             0.054\n",
       "bus                                                 0.017\n",
       "camion                                              0.000\n",
       "dia                                                 0.395\n",
       "hora                                                0.944"
      ]
     },
     "execution_count": 57,
     "metadata": {},
     "output_type": "execute_result"
    }
   ],
   "source": [
    "np.round(fallecidos.pvalues, 3)"
   ]
  },
  {
   "cell_type": "code",
   "execution_count": null,
   "id": "athletic-claim",
   "metadata": {},
   "outputs": [],
   "source": []
  }
 ],
 "metadata": {
  "kernelspec": {
   "display_name": "Python 3",
   "language": "python",
   "name": "python3"
  },
  "language_info": {
   "codemirror_mode": {
    "name": "ipython",
    "version": 3
   },
   "file_extension": ".py",
   "mimetype": "text/x-python",
   "name": "python",
   "nbconvert_exporter": "python",
   "pygments_lexer": "ipython3",
   "version": "3.8.6"
  },
  "toc": {
   "base_numbering": 1,
   "nav_menu": {},
   "number_sections": true,
   "sideBar": true,
   "skip_h1_title": false,
   "title_cell": "Table of Contents",
   "title_sidebar": "Contents",
   "toc_cell": false,
   "toc_position": {},
   "toc_section_display": true,
   "toc_window_display": false
  },
  "varInspector": {
   "cols": {
    "lenName": 16,
    "lenType": 16,
    "lenVar": 40
   },
   "kernels_config": {
    "python": {
     "delete_cmd_postfix": "",
     "delete_cmd_prefix": "del ",
     "library": "var_list.py",
     "varRefreshCmd": "print(var_dic_list())"
    },
    "r": {
     "delete_cmd_postfix": ") ",
     "delete_cmd_prefix": "rm(",
     "library": "var_list.r",
     "varRefreshCmd": "cat(var_dic_list()) "
    }
   },
   "types_to_exclude": [
    "module",
    "function",
    "builtin_function_or_method",
    "instance",
    "_Feature"
   ],
   "window_display": false
  }
 },
 "nbformat": 4,
 "nbformat_minor": 5
}
