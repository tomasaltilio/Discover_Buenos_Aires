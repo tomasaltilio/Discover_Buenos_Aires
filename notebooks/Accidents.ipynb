{
 "cells": [
  {
   "cell_type": "code",
   "execution_count": 1,
   "id": "latin-mixture",
   "metadata": {},
   "outputs": [],
   "source": [
    "# Library imports\n",
    "import pandas as pd\n",
    "import numpy as np\n",
    "import matplotlib.pyplot as plt\n",
    "import os\n",
    "import seaborn as sns"
   ]
  },
  {
   "cell_type": "markdown",
   "id": "political-calendar",
   "metadata": {},
   "source": [
    "# Exploring Accidents"
   ]
  },
  {
   "cell_type": "markdown",
   "id": "incident-round",
   "metadata": {},
   "source": [
    "The only information source for car accidents data comes from the data collected by AUSA.<br>\n",
    "AUSA is a private company that is currently the licencee for the only highway in the city of Buenos Aires."
   ]
  },
  {
   "cell_type": "code",
   "execution_count": 2,
   "id": "finnish-albany",
   "metadata": {},
   "outputs": [
    {
     "data": {
      "text/plain": [
       "['reclamos-ausa.csv',\n",
       " 'documentacion-seguridad-vial.pdf',\n",
       " 'intervenciones-de-seguridad-vial.csv']"
      ]
     },
     "execution_count": 2,
     "metadata": {},
     "output_type": "execute_result"
    }
   ],
   "source": [
    "path = os.path.join(os.path.dirname(os.getcwd()), 'raw_data', 'Accidentes')\n",
    "\n",
    "os.listdir(path)"
   ]
  },
  {
   "cell_type": "markdown",
   "id": "ahead-ticket",
   "metadata": {},
   "source": [
    "Two datasets composed by highway claims and interventions from security staff on highway."
   ]
  },
  {
   "cell_type": "markdown",
   "id": "pleasant-diving",
   "metadata": {},
   "source": [
    "# Highway Claims"
   ]
  },
  {
   "cell_type": "markdown",
   "id": "extreme-sullivan",
   "metadata": {},
   "source": [
    "Opening claims dataframe."
   ]
  },
  {
   "cell_type": "code",
   "execution_count": 3,
   "id": "similar-exhibition",
   "metadata": {},
   "outputs": [
    {
     "data": {
      "text/html": [
       "<div>\n",
       "<style scoped>\n",
       "    .dataframe tbody tr th:only-of-type {\n",
       "        vertical-align: middle;\n",
       "    }\n",
       "\n",
       "    .dataframe tbody tr th {\n",
       "        vertical-align: top;\n",
       "    }\n",
       "\n",
       "    .dataframe thead th {\n",
       "        text-align: right;\n",
       "    }\n",
       "</style>\n",
       "<table border=\"1\" class=\"dataframe\">\n",
       "  <thead>\n",
       "    <tr style=\"text-align: right;\">\n",
       "      <th></th>\n",
       "      <th>nro_caso</th>\n",
       "      <th>titulo_caso</th>\n",
       "      <th>fecha</th>\n",
       "    </tr>\n",
       "  </thead>\n",
       "  <tbody>\n",
       "    <tr>\n",
       "      <th>0</th>\n",
       "      <td>C00126163</td>\n",
       "      <td>RECLAMOS/VUELTO ERRONEO/FALTANTE</td>\n",
       "      <td>2016-12-01 15:47:26</td>\n",
       "    </tr>\n",
       "    <tr>\n",
       "      <th>1</th>\n",
       "      <td>C00126165</td>\n",
       "      <td>RECLAMOS/DAÑO DEL VEHICULO SOBRE AU./OBJETO</td>\n",
       "      <td>2016-12-01 16:01:31</td>\n",
       "    </tr>\n",
       "    <tr>\n",
       "      <th>2</th>\n",
       "      <td>C00126167</td>\n",
       "      <td>RECLAMOS/DAÑO EN VIA DE PEAJE/VÍA 07 A</td>\n",
       "      <td>2016-12-01 16:13:41</td>\n",
       "    </tr>\n",
       "    <tr>\n",
       "      <th>3</th>\n",
       "      <td>C00126169</td>\n",
       "      <td>RECLAMOS/DAÑO DEL VEHICULO SOBRE AU./AGRESIÓN ...</td>\n",
       "      <td>2016-12-01 16:35:22</td>\n",
       "    </tr>\n",
       "    <tr>\n",
       "      <th>4</th>\n",
       "      <td>C00126171</td>\n",
       "      <td>QUEJAS/TELEPEAJE/DISPOSICIONES DE SERVICIO</td>\n",
       "      <td>2016-12-01 17:15:12</td>\n",
       "    </tr>\n",
       "  </tbody>\n",
       "</table>\n",
       "</div>"
      ],
      "text/plain": [
       "    nro_caso                                        titulo_caso  \\\n",
       "0  C00126163                   RECLAMOS/VUELTO ERRONEO/FALTANTE   \n",
       "1  C00126165        RECLAMOS/DAÑO DEL VEHICULO SOBRE AU./OBJETO   \n",
       "2  C00126167             RECLAMOS/DAÑO EN VIA DE PEAJE/VÍA 07 A   \n",
       "3  C00126169  RECLAMOS/DAÑO DEL VEHICULO SOBRE AU./AGRESIÓN ...   \n",
       "4  C00126171         QUEJAS/TELEPEAJE/DISPOSICIONES DE SERVICIO   \n",
       "\n",
       "                 fecha  \n",
       "0  2016-12-01 15:47:26  \n",
       "1  2016-12-01 16:01:31  \n",
       "2  2016-12-01 16:13:41  \n",
       "3  2016-12-01 16:35:22  \n",
       "4  2016-12-01 17:15:12  "
      ]
     },
     "execution_count": 3,
     "metadata": {},
     "output_type": "execute_result"
    }
   ],
   "source": [
    "claims = pd.read_csv(os.path.join(path, 'reclamos-ausa.csv'))\n",
    "claims.head()"
   ]
  },
  {
   "cell_type": "markdown",
   "id": "turned-planet",
   "metadata": {},
   "source": [
    "Claims dataset has 3 features:\n",
    "\n",
    "\n",
    "- `nro_caso` case number or case ID\n",
    "- `titulo_caso` case title\n",
    "- `fecha` date"
   ]
  },
  {
   "cell_type": "code",
   "execution_count": 5,
   "id": "changing-advice",
   "metadata": {},
   "outputs": [
    {
     "data": {
      "text/plain": [
       "['RECLAMOS', 'VUELTO ERRONEO', 'FALTANTE']"
      ]
     },
     "execution_count": 5,
     "metadata": {},
     "output_type": "execute_result"
    }
   ],
   "source": [
    "claims.titulo_caso[0].split('/')"
   ]
  },
  {
   "cell_type": "markdown",
   "id": "social-relief",
   "metadata": {},
   "source": [
    "A closer look to `titulo_caso` column shows us that it's composed of three parts that we could call: `category`, `subcategory` and `description`.  \n",
    "\n",
    "We'll create new features for better comprehension of the data."
   ]
  },
  {
   "cell_type": "code",
   "execution_count": 6,
   "id": "exposed-nickel",
   "metadata": {},
   "outputs": [],
   "source": [
    "# Lists to be populated during loop\n",
    "categories = []\n",
    "subcategories = []\n",
    "descriptions = []\n",
    "\n",
    "for claim in claims.titulo_caso:\n",
    "    # Dividing information\n",
    "    category = claim.split('/')[0]\n",
    "    subcategory = claim.split('/')[1]\n",
    "    description = claim.split('/')[2]\n",
    "    # Inserting information into lists\n",
    "    categories.append(category)\n",
    "    subcategories.append(subcategory)\n",
    "    descriptions.append(description)\n",
    "\n",
    "# New features\n",
    "claims['category'] = categories\n",
    "claims['subcategory'] = subcategories\n",
    "claims['description'] = descriptions"
   ]
  },
  {
   "cell_type": "markdown",
   "id": "practical-satellite",
   "metadata": {},
   "source": [
    "With the new features created there's no need to keep the original column nor the `nro_caso` column as it doesn't provide any information either."
   ]
  },
  {
   "cell_type": "code",
   "execution_count": 7,
   "id": "headed-celebrity",
   "metadata": {},
   "outputs": [],
   "source": [
    "claims.drop(columns=['nro_caso', 'titulo_caso'], inplace=True)"
   ]
  },
  {
   "cell_type": "markdown",
   "id": "toxic-minutes",
   "metadata": {},
   "source": [
    "Let's take a look at the dataset now:"
   ]
  },
  {
   "cell_type": "code",
   "execution_count": 55,
   "id": "future-cowboy",
   "metadata": {},
   "outputs": [
    {
     "data": {
      "text/html": [
       "<div>\n",
       "<style scoped>\n",
       "    .dataframe tbody tr th:only-of-type {\n",
       "        vertical-align: middle;\n",
       "    }\n",
       "\n",
       "    .dataframe tbody tr th {\n",
       "        vertical-align: top;\n",
       "    }\n",
       "\n",
       "    .dataframe thead th {\n",
       "        text-align: right;\n",
       "    }\n",
       "</style>\n",
       "<table border=\"1\" class=\"dataframe\">\n",
       "  <thead>\n",
       "    <tr style=\"text-align: right;\">\n",
       "      <th></th>\n",
       "      <th>date</th>\n",
       "      <th>category</th>\n",
       "      <th>subcategory</th>\n",
       "      <th>description</th>\n",
       "    </tr>\n",
       "  </thead>\n",
       "  <tbody>\n",
       "    <tr>\n",
       "      <th>0</th>\n",
       "      <td>2016-12-01 15:47:26</td>\n",
       "      <td>RECLAMOS</td>\n",
       "      <td>VUELTO ERRONEO</td>\n",
       "      <td>FALTANTE</td>\n",
       "    </tr>\n",
       "    <tr>\n",
       "      <th>1</th>\n",
       "      <td>2016-12-01 16:01:31</td>\n",
       "      <td>RECLAMOS</td>\n",
       "      <td>DAÑO DEL VEHICULO SOBRE AU.</td>\n",
       "      <td>OBJETO</td>\n",
       "    </tr>\n",
       "    <tr>\n",
       "      <th>2</th>\n",
       "      <td>2016-12-01 16:13:41</td>\n",
       "      <td>RECLAMOS</td>\n",
       "      <td>DAÑO EN VIA DE PEAJE</td>\n",
       "      <td>VÍA 07 A</td>\n",
       "    </tr>\n",
       "    <tr>\n",
       "      <th>3</th>\n",
       "      <td>2016-12-01 16:35:22</td>\n",
       "      <td>RECLAMOS</td>\n",
       "      <td>DAÑO DEL VEHICULO SOBRE AU.</td>\n",
       "      <td>AGRESIÓN POR TERCEROS</td>\n",
       "    </tr>\n",
       "    <tr>\n",
       "      <th>4</th>\n",
       "      <td>2016-12-01 17:15:12</td>\n",
       "      <td>QUEJAS</td>\n",
       "      <td>TELEPEAJE</td>\n",
       "      <td>DISPOSICIONES DE SERVICIO</td>\n",
       "    </tr>\n",
       "  </tbody>\n",
       "</table>\n",
       "</div>"
      ],
      "text/plain": [
       "                  date  category                  subcategory  \\\n",
       "0  2016-12-01 15:47:26  RECLAMOS               VUELTO ERRONEO   \n",
       "1  2016-12-01 16:01:31  RECLAMOS  DAÑO DEL VEHICULO SOBRE AU.   \n",
       "2  2016-12-01 16:13:41  RECLAMOS         DAÑO EN VIA DE PEAJE   \n",
       "3  2016-12-01 16:35:22  RECLAMOS  DAÑO DEL VEHICULO SOBRE AU.   \n",
       "4  2016-12-01 17:15:12    QUEJAS                    TELEPEAJE   \n",
       "\n",
       "                 description  \n",
       "0                   FALTANTE  \n",
       "1                     OBJETO  \n",
       "2                   VÍA 07 A  \n",
       "3      AGRESIÓN POR TERCEROS  \n",
       "4  DISPOSICIONES DE SERVICIO  "
      ]
     },
     "execution_count": 55,
     "metadata": {},
     "output_type": "execute_result"
    }
   ],
   "source": [
    "claims.columns = ['date', 'category', 'subcategory', 'description']\n",
    "\n",
    "claims.head()"
   ]
  },
  {
   "cell_type": "code",
   "execution_count": 56,
   "id": "possible-emphasis",
   "metadata": {},
   "outputs": [
    {
     "data": {
      "text/html": [
       "<div>\n",
       "<style scoped>\n",
       "    .dataframe tbody tr th:only-of-type {\n",
       "        vertical-align: middle;\n",
       "    }\n",
       "\n",
       "    .dataframe tbody tr th {\n",
       "        vertical-align: top;\n",
       "    }\n",
       "\n",
       "    .dataframe thead th {\n",
       "        text-align: right;\n",
       "    }\n",
       "</style>\n",
       "<table border=\"1\" class=\"dataframe\">\n",
       "  <thead>\n",
       "    <tr style=\"text-align: right;\">\n",
       "      <th></th>\n",
       "      <th>date</th>\n",
       "      <th>category</th>\n",
       "      <th>subcategory</th>\n",
       "      <th>description</th>\n",
       "    </tr>\n",
       "  </thead>\n",
       "  <tbody>\n",
       "    <tr>\n",
       "      <th>5654</th>\n",
       "      <td>2019-04-20 10:00:21</td>\n",
       "      <td>QUEJAS</td>\n",
       "      <td>MALA ATENCION</td>\n",
       "      <td>A COMPLETAR</td>\n",
       "    </tr>\n",
       "    <tr>\n",
       "      <th>5655</th>\n",
       "      <td>2019-04-20 15:00:24</td>\n",
       "      <td>QUEJAS</td>\n",
       "      <td>EN GENERAL</td>\n",
       "      <td>A COMPLETAR</td>\n",
       "    </tr>\n",
       "    <tr>\n",
       "      <th>5656</th>\n",
       "      <td>2019-04-22 11:00:24</td>\n",
       "      <td>RECLAMOS</td>\n",
       "      <td>VUELTO ERRONEO</td>\n",
       "      <td>A COMPLETAR</td>\n",
       "    </tr>\n",
       "    <tr>\n",
       "      <th>5657</th>\n",
       "      <td>2019-04-23 10:30:10</td>\n",
       "      <td>QUEJAS</td>\n",
       "      <td>PEAJE</td>\n",
       "      <td>A COMPLETAR</td>\n",
       "    </tr>\n",
       "    <tr>\n",
       "      <th>5658</th>\n",
       "      <td>2019-04-23 10:30:20</td>\n",
       "      <td>QUEJAS</td>\n",
       "      <td>EN GENERAL</td>\n",
       "      <td>A COMPLETAR</td>\n",
       "    </tr>\n",
       "  </tbody>\n",
       "</table>\n",
       "</div>"
      ],
      "text/plain": [
       "                     date  category     subcategory  description\n",
       "5654  2019-04-20 10:00:21    QUEJAS   MALA ATENCION  A COMPLETAR\n",
       "5655  2019-04-20 15:00:24    QUEJAS      EN GENERAL  A COMPLETAR\n",
       "5656  2019-04-22 11:00:24  RECLAMOS  VUELTO ERRONEO  A COMPLETAR\n",
       "5657  2019-04-23 10:30:10    QUEJAS           PEAJE  A COMPLETAR\n",
       "5658  2019-04-23 10:30:20    QUEJAS      EN GENERAL  A COMPLETAR"
      ]
     },
     "execution_count": 56,
     "metadata": {},
     "output_type": "execute_result"
    }
   ],
   "source": [
    "claims.tail()"
   ]
  },
  {
   "cell_type": "markdown",
   "id": "registered-agreement",
   "metadata": {},
   "source": [
    "For data consistency let's ensure everything is in *uppercase* and with no trailing whitespaces. "
   ]
  },
  {
   "cell_type": "code",
   "execution_count": 29,
   "id": "instant-galaxy",
   "metadata": {},
   "outputs": [],
   "source": [
    "for feature in claims:\n",
    "    claims[feature] = claims[feature].str.upper().str.strip()"
   ]
  },
  {
   "cell_type": "markdown",
   "id": "sealed-strain",
   "metadata": {},
   "source": [
    "Let's explore the `category` feature:"
   ]
  },
  {
   "cell_type": "code",
   "execution_count": 33,
   "id": "alike-standard",
   "metadata": {},
   "outputs": [
    {
     "data": {
      "image/png": "[encoded data removed]",
      "text/plain": [
       "<Figure size 432x288 with 1 Axes>"
      ]
     },
     "metadata": {},
     "output_type": "display_data"
    }
   ],
   "source": [
    "sns.set_theme()\n",
    "plt.title('Categories in % of total', loc = 'center', size = 18, \n",
    "                pad = 10, fontweight = 'bold', color = 'gray')\n",
    "ax = sns.barplot(y=claims.category.value_counts().index, x=claims.category.value_counts(normalize=True) * 100);"
   ]
  },
  {
   "cell_type": "markdown",
   "id": "french-greece",
   "metadata": {},
   "source": [
    "We can easily see that `RECLAMOS` with 70% (ie. \"Demands\") and `QUEJAS` with ~30% (ie. \"Complaints\") are the most frecuent categories.\n",
    "\n",
    "We'll analize them separetly to get more details. \n",
    "\n",
    "First, we'll get into `RECLAMOS` and create a `demands` dataframe to use."
   ]
  },
  {
   "cell_type": "code",
   "execution_count": 70,
   "id": "viral-precipitation",
   "metadata": {},
   "outputs": [
    {
     "data": {
      "text/plain": [
       "3965"
      ]
     },
     "execution_count": 70,
     "metadata": {},
     "output_type": "execute_result"
    }
   ],
   "source": [
    "demands = claims[claims.category == 'RECLAMOS'].drop(columns = ['category'])\n",
    "len(demands)"
   ]
  },
  {
   "cell_type": "markdown",
   "id": "attempted-filling",
   "metadata": {},
   "source": [
    "Top 5 subcategories are almost 98% of the total demands, so let's focus on them."
   ]
  },
  {
   "cell_type": "code",
   "execution_count": 85,
   "id": "facial-plenty",
   "metadata": {},
   "outputs": [
    {
     "data": {
      "text/plain": [
       "97.55"
      ]
     },
     "execution_count": 85,
     "metadata": {},
     "output_type": "execute_result"
    }
   ],
   "source": [
    "round(demands.subcategory.value_counts().head().sum() / len(demands) *100, 2)"
   ]
  },
  {
   "cell_type": "code",
   "execution_count": 124,
   "id": "dated-claim",
   "metadata": {},
   "outputs": [
    {
     "data": {
      "image/png": "[encoded data removed]",
      "text/plain": [
       "<Figure size 432x288 with 1 Axes>"
      ]
     },
     "metadata": {},
     "output_type": "display_data"
    }
   ],
   "source": [
    "plt.title('Subcategories in % of total Demands', loc = 'center', size = 18, \n",
    "                pad = 10, fontweight = 'bold', color = 'gray')\n",
    "sns.barplot(y=demands.subcategory.value_counts().head().index,\n",
    "            x=demands.subcategory.value_counts(normalize=True).head()*100);"
   ]
  },
  {
   "cell_type": "code",
   "execution_count": 156,
   "id": "attached-pilot",
   "metadata": {},
   "outputs": [
    {
     "data": {
      "text/plain": [
       "73.32"
      ]
     },
     "execution_count": 156,
     "metadata": {},
     "output_type": "execute_result"
    }
   ],
   "source": [
    "round(len(demands[demands.subcategory.str.contains('DAÑO')]) / len(demands) *100, 2)"
   ]
  },
  {
   "cell_type": "markdown",
   "id": "blank-cosmetic",
   "metadata": {},
   "source": [
    "So a little bit over 70% of the `demands` are related to `damages` (\"*DAÑO..*\").\n",
    "\n",
    "Let's inspect these `damages` to see if we can get some insights."
   ]
  },
  {
   "cell_type": "code",
   "execution_count": 136,
   "id": "adopted-cassette",
   "metadata": {},
   "outputs": [
    {
     "name": "stdout",
     "output_type": "stream",
     "text": [
      "Number of possible explanations for damages: \n",
      "125\n"
     ]
    }
   ],
   "source": [
    "print(f\"\"\"Number of possible explanations for damages: \n",
    "{demands[demands.subcategory.str.contains('DAÑO')].description.nunique()}\"\"\")"
   ]
  },
  {
   "cell_type": "markdown",
   "id": "indoor-palmer",
   "metadata": {},
   "source": [
    "As we could imagine, there's a lot of possible explanations to these `damages`. \n",
    "\n",
    "Let's see if we could narrow them up using a Pareto approach:\n",
    "\n",
    "20% of 125 is 25, so let's see how much the top 25 explanations impact on the total."
   ]
  },
  {
   "cell_type": "code",
   "execution_count": 158,
   "id": "eastern-direction",
   "metadata": {},
   "outputs": [
    {
     "data": {
      "text/plain": [
       "79.32576539387685"
      ]
     },
     "execution_count": 158,
     "metadata": {},
     "output_type": "execute_result"
    }
   ],
   "source": [
    "demands[demands.subcategory.str.contains('DAÑO')].description.value_counts().head(25).sum() / \\\n",
    "len(demands[demands.subcategory.str.contains('DAÑO')]) *100"
   ]
  },
  {
   "cell_type": "code",
   "execution_count": 49,
   "id": "prospective-sight",
   "metadata": {},
   "outputs": [
    {
     "data": {
      "text/plain": [
       "MALA ATENCION                     571\n",
       "PEAJE                             414\n",
       "SECTORES ANEXOS                   163\n",
       "EN GENERAL                        153\n",
       "MANTENIMIENTO DE AU DE AUSA       104\n",
       "TELEPEAJE                          61\n",
       "SEÑALIZACION DE AU DE AUSA         27\n",
       "DISCONFORMIDAD CON EL SERVICIO     25\n",
       "TELEPASE                           19\n",
       "EXCEPCION DE PEAJE                 18\n",
       "VUELTO ERRONEO                     18\n",
       "MANTENIMIENTO                      13\n",
       "CONGESTIONAMIENTO                   6\n",
       "SEGURIDAD                           3\n",
       "TELEPEAJE OTRAS AUTOPISTAS          3\n",
       "POLICIA                             2\n",
       "SEGURIDAD VIAL                      2\n",
       "Name: subcategory, dtype: int64"
      ]
     },
     "execution_count": 49,
     "metadata": {},
     "output_type": "execute_result"
    }
   ],
   "source": [
    "claims[claims.category == 'QUEJAS'].subcategory.value_counts()"
   ]
  },
  {
   "cell_type": "code",
   "execution_count": 6,
   "id": "engaged-radical",
   "metadata": {},
   "outputs": [
    {
     "data": {
      "text/plain": [
       "A completar                           1\n",
       "A completar                           2\n",
       "ACCIDENTE                             2\n",
       "CONGESTIONAMIENTO                     6\n",
       "DAÑO DE VEHÍCULO                      3\n",
       "DAÑO DEL VEHICULO SOBRE AU.        1507\n",
       "DAÑO DEL VEHICULO SOBRE AU.          65\n",
       "DAÑO EN VIA DE PEAJE                701\n",
       "DAÑO EN VIA DE PEAJE                 28\n",
       "DAÑO EN VIA TELEPEAJE               589\n",
       "DAÑO EN VIA TELEPEAJE                15\n",
       "DISCONFORMIDAD CON EL SERVICIO       26\n",
       "DISCONFORMIDAD CON EL SERVICIO        1\n",
       "EN GENERAL                          306\n",
       "EN GENERAL                           15\n",
       "EXCEPCION DE PEAJE                   17\n",
       "EXCEPCION DE PEAJE                    1\n",
       "MALA ATENCION                       548\n",
       "MALA ATENCION                        26\n",
       "MANTENIMIENTO                         7\n",
       "MANTENIMIENTO                         8\n",
       "MANTENIMIENTO DE AU DE AUSA          90\n",
       "MANTENIMIENTO DE AU DE AUSA          14\n",
       "PEAJE                               445\n",
       "PEAJE                                20\n",
       "POLICIA                               2\n",
       "SECTORES ANEXOS                     139\n",
       "SECTORES ANEXOS                      26\n",
       "SEGURIDAD                             3\n",
       "SEGURIDAD                             1\n",
       "SEGURIDAD VIAL                        2\n",
       "SEÑALIZACION DE AU DE AUSA           26\n",
       "SEÑALIZACION DE AU DE AUSA            1\n",
       "TELEPASE                             33\n",
       "TELEPEAJE                            91\n",
       "TELEPEAJE                             4\n",
       "TELEPEAJE AUSA                        1\n",
       "TELEPEAJE OTRAS AUTOPISTAS            4\n",
       "VUELTO ERRONEO                      854\n",
       "VUELTO ERRONEO                       29\n",
       "Name: subtema, dtype: int64"
      ]
     },
     "execution_count": 6,
     "metadata": {},
     "output_type": "execute_result"
    }
   ],
   "source": [
    "reclamos['subtema'].value_counts().sort_index()"
   ]
  },
  {
   "cell_type": "code",
   "execution_count": 7,
   "id": "vital-exemption",
   "metadata": {},
   "outputs": [
    {
     "data": {
      "text/plain": [
       "A completar                          3\n",
       "ACCIDENTE                            2\n",
       "CONGESTIONAMIENTO                    6\n",
       "DAÑO DE VEHÍCULO                     3\n",
       "DAÑO DEL VEHICULO SOBRE AU.       1572\n",
       "DAÑO EN VIA DE PEAJE               729\n",
       "DAÑO EN VIA TELEPEAJE              604\n",
       "DISCONFORMIDAD CON EL SERVICIO      27\n",
       "EN GENERAL                         321\n",
       "EXCEPCION DE PEAJE                  18\n",
       "MALA ATENCION                      574\n",
       "MANTENIMIENTO                       15\n",
       "MANTENIMIENTO DE AU DE AUSA        104\n",
       "PEAJE                              465\n",
       "POLICIA                              2\n",
       "SECTORES ANEXOS                    165\n",
       "SEGURIDAD                            4\n",
       "SEGURIDAD VIAL                       2\n",
       "SEÑALIZACION DE AU DE AUSA          27\n",
       "TELEPASE                            33\n",
       "TELEPEAJE                           95\n",
       "TELEPEAJE AUSA                       1\n",
       "TELEPEAJE OTRAS AUTOPISTAS           4\n",
       "VUELTO ERRONEO                     883\n",
       "Name: subtema, dtype: int64"
      ]
     },
     "execution_count": 7,
     "metadata": {},
     "output_type": "execute_result"
    }
   ],
   "source": [
    "reclamos['subtema'] = reclamos['subtema'].str.strip()\n",
    "reclamos['detalle'] = reclamos['detalle'].str.strip()\n",
    "reclamos['subtema'].value_counts().sort_index()"
   ]
  },
  {
   "cell_type": "code",
   "execution_count": 8,
   "id": "suited-delaware",
   "metadata": {},
   "outputs": [],
   "source": [
    "reclamos['subtema'][reclamos.subtema.str.contains('TEL')] = 'TELEPEAJE'\n",
    "reclamos['subtema'][reclamos.subtema.str.contains('MANTE')] = 'MANTENIMIENTO'"
   ]
  },
  {
   "cell_type": "code",
   "execution_count": 9,
   "id": "auburn-express",
   "metadata": {},
   "outputs": [
    {
     "data": {
      "text/plain": [
       "MANTENIMIENTO    119\n",
       "Name: subtema, dtype: int64"
      ]
     },
     "execution_count": 9,
     "metadata": {},
     "output_type": "execute_result"
    }
   ],
   "source": [
    "reclamos['subtema'][reclamos.subtema.str.contains('MANTE')].value_counts()"
   ]
  },
  {
   "cell_type": "code",
   "execution_count": 10,
   "id": "speaking-little",
   "metadata": {},
   "outputs": [
    {
     "data": {
      "text/plain": [
       "0.016610708605760735"
      ]
     },
     "execution_count": 10,
     "metadata": {},
     "output_type": "execute_result"
    }
   ],
   "source": [
    "reclamos.subtema.value_counts()[reclamos.subtema.value_counts(normalize=True) < 0.01].sum() / len(reclamos)"
   ]
  },
  {
   "cell_type": "code",
   "execution_count": 11,
   "id": "complimentary-buddy",
   "metadata": {},
   "outputs": [
    {
     "data": {
      "text/plain": [
       "['CONGESTIONAMIENTO',\n",
       " 'SEGURIDAD',\n",
       " 'DAÑO DE VEHÍCULO',\n",
       " 'A completar',\n",
       " 'ACCIDENTE',\n",
       " 'POLICIA',\n",
       " 'SEGURIDAD VIAL']"
      ]
     },
     "execution_count": 11,
     "metadata": {},
     "output_type": "execute_result"
    }
   ],
   "source": [
    "others = list(reclamos['subtema'].value_counts()[reclamos['subtema'].value_counts() < 10].index)\n",
    "others"
   ]
  },
  {
   "cell_type": "code",
   "execution_count": 12,
   "id": "blocked-imaging",
   "metadata": {},
   "outputs": [],
   "source": [
    "reclamos['subtema'][reclamos.subtema.isin(others)] = 'OTROS'"
   ]
  },
  {
   "cell_type": "code",
   "execution_count": 13,
   "id": "parliamentary-arbitration",
   "metadata": {},
   "outputs": [
    {
     "data": {
      "text/plain": [
       "DAÑO DEL VEHICULO SOBRE AU.       1572\n",
       "DAÑO EN VIA DE PEAJE               729\n",
       "DISCONFORMIDAD CON EL SERVICIO      27\n",
       "EN GENERAL                         321\n",
       "EXCEPCION DE PEAJE                  18\n",
       "MALA ATENCION                      574\n",
       "MANTENIMIENTO                      119\n",
       "OTROS                               22\n",
       "PEAJE                              465\n",
       "SECTORES ANEXOS                    165\n",
       "SEÑALIZACION DE AU DE AUSA          27\n",
       "TELEPEAJE                          737\n",
       "VUELTO ERRONEO                     883\n",
       "Name: subtema, dtype: int64"
      ]
     },
     "execution_count": 13,
     "metadata": {},
     "output_type": "execute_result"
    }
   ],
   "source": [
    "reclamos.subtema.value_counts().sort_index()"
   ]
  },
  {
   "cell_type": "code",
   "execution_count": 14,
   "id": "every-shaft",
   "metadata": {},
   "outputs": [
    {
     "data": {
      "text/plain": [
       "Int64Index([1527, 3988, 3989, 3990], dtype='int64')"
      ]
     },
     "execution_count": 14,
     "metadata": {},
     "output_type": "execute_result"
    }
   ],
   "source": [
    "reclamos[reclamos.tema.str.contains('a completar', case=False)].index"
   ]
  },
  {
   "cell_type": "code",
   "execution_count": 15,
   "id": "behind-poison",
   "metadata": {},
   "outputs": [],
   "source": [
    "reclamos.drop(index=reclamos[reclamos.tema.str.contains('a completar', case=False)].index, inplace=True)"
   ]
  },
  {
   "cell_type": "code",
   "execution_count": 16,
   "id": "accredited-nerve",
   "metadata": {
    "scrolled": true
   },
   "outputs": [
    {
     "data": {
      "image/png": "[encoded data removed]",
      "text/plain": [
       "<Figure size 432x288 with 1 Axes>"
      ]
     },
     "metadata": {},
     "output_type": "display_data"
    }
   ],
   "source": [
    "sns.set_style(\"whitegrid\")\n",
    "subtemas = reclamos.groupby('subtema').count().sort_values(by='tema', ascending=False).head(10)\n",
    "sns.barplot(y=subtemas.index, x=subtemas.tema);"
   ]
  },
  {
   "cell_type": "code",
   "execution_count": 17,
   "id": "valuable-croatia",
   "metadata": {},
   "outputs": [
    {
     "data": {
      "text/plain": [
       "<AxesSubplot:xlabel='detalle'>"
      ]
     },
     "execution_count": 17,
     "metadata": {},
     "output_type": "execute_result"
    },
    {
     "data": {
      "image/png": "[encoded data removed]",
      "text/plain": [
       "<Figure size 432x288 with 1 Axes>"
      ]
     },
     "metadata": {},
     "output_type": "display_data"
    }
   ],
   "source": [
    "damages = reclamos[reclamos.subtema == 'DAÑO DEL VEHICULO SOBRE AU.'].detalle.value_counts().head()\n",
    "sns.barplot(y=damages.index, x=damages)"
   ]
  },
  {
   "cell_type": "markdown",
   "id": "integral-suffering",
   "metadata": {},
   "source": [
    "## Accidentes"
   ]
  },
  {
   "cell_type": "code",
   "execution_count": 40,
   "id": "prospective-secretariat",
   "metadata": {},
   "outputs": [
    {
     "data": {
      "text/html": [
       "<div>\n",
       "<style scoped>\n",
       "    .dataframe tbody tr th:only-of-type {\n",
       "        vertical-align: middle;\n",
       "    }\n",
       "\n",
       "    .dataframe tbody tr th {\n",
       "        vertical-align: top;\n",
       "    }\n",
       "\n",
       "    .dataframe thead th {\n",
       "        text-align: right;\n",
       "    }\n",
       "</style>\n",
       "<table border=\"1\" class=\"dataframe\">\n",
       "  <thead>\n",
       "    <tr style=\"text-align: right;\">\n",
       "      <th></th>\n",
       "      <th>periodo</th>\n",
       "      <th>fecha</th>\n",
       "      <th>hora</th>\n",
       "      <th>autopista</th>\n",
       "      <th>banda_y_o_ramal</th>\n",
       "      <th>pk</th>\n",
       "      <th>condiciones_meteorologicas</th>\n",
       "      <th>superficie_de_la_via</th>\n",
       "      <th>lesionados</th>\n",
       "      <th>fallecidos</th>\n",
       "      <th>tipo_de_siniestro</th>\n",
       "      <th>moto</th>\n",
       "      <th>liviano</th>\n",
       "      <th>bus</th>\n",
       "      <th>camion</th>\n",
       "    </tr>\n",
       "  </thead>\n",
       "  <tbody>\n",
       "    <tr>\n",
       "      <th>0</th>\n",
       "      <td>201401</td>\n",
       "      <td>2014-01-01</td>\n",
       "      <td>1</td>\n",
       "      <td>AU CAMPORA</td>\n",
       "      <td>ASCENDENTE</td>\n",
       "      <td>600</td>\n",
       "      <td>BUENO</td>\n",
       "      <td>SECA</td>\n",
       "      <td>1</td>\n",
       "      <td>0</td>\n",
       "      <td>COLISION CON OBSTACULO FIJO</td>\n",
       "      <td>0</td>\n",
       "      <td>1</td>\n",
       "      <td>0</td>\n",
       "      <td>0</td>\n",
       "    </tr>\n",
       "    <tr>\n",
       "      <th>1</th>\n",
       "      <td>201401</td>\n",
       "      <td>2014-01-01</td>\n",
       "      <td>3</td>\n",
       "      <td>AU DELLEPIANE</td>\n",
       "      <td>DESCENDENTE</td>\n",
       "      <td>600</td>\n",
       "      <td>BUENO</td>\n",
       "      <td>SECA</td>\n",
       "      <td>0</td>\n",
       "      <td>0</td>\n",
       "      <td>COLISION CON OBSTACULO FIJO</td>\n",
       "      <td>0</td>\n",
       "      <td>1</td>\n",
       "      <td>0</td>\n",
       "      <td>0</td>\n",
       "    </tr>\n",
       "    <tr>\n",
       "      <th>2</th>\n",
       "      <td>201401</td>\n",
       "      <td>2014-01-01</td>\n",
       "      <td>22</td>\n",
       "      <td>AU 25 DE MAYO</td>\n",
       "      <td>ASCENDENTE</td>\n",
       "      <td>5900</td>\n",
       "      <td>BUENO</td>\n",
       "      <td>SECA</td>\n",
       "      <td>8</td>\n",
       "      <td>0</td>\n",
       "      <td>COLISION CON DOS O MAS VEHICULOS</td>\n",
       "      <td>0</td>\n",
       "      <td>2</td>\n",
       "      <td>0</td>\n",
       "      <td>0</td>\n",
       "    </tr>\n",
       "    <tr>\n",
       "      <th>3</th>\n",
       "      <td>201401</td>\n",
       "      <td>2014-03-01</td>\n",
       "      <td>7</td>\n",
       "      <td>AU CAMPORA</td>\n",
       "      <td>DESCENDENTE</td>\n",
       "      <td>600</td>\n",
       "      <td>BUENO</td>\n",
       "      <td>SECA</td>\n",
       "      <td>0</td>\n",
       "      <td>0</td>\n",
       "      <td>OBSTACULO NO FIJO</td>\n",
       "      <td>0</td>\n",
       "      <td>0</td>\n",
       "      <td>0</td>\n",
       "      <td>1</td>\n",
       "    </tr>\n",
       "    <tr>\n",
       "      <th>4</th>\n",
       "      <td>201401</td>\n",
       "      <td>2014-03-01</td>\n",
       "      <td>21</td>\n",
       "      <td>AU PERTIO MORENO</td>\n",
       "      <td>DESCENDENTE</td>\n",
       "      <td>5400</td>\n",
       "      <td>BUENO</td>\n",
       "      <td>SECA</td>\n",
       "      <td>1</td>\n",
       "      <td>0</td>\n",
       "      <td>COLISION CON OBSTACULO FIJO</td>\n",
       "      <td>0</td>\n",
       "      <td>2</td>\n",
       "      <td>0</td>\n",
       "      <td>0</td>\n",
       "    </tr>\n",
       "  </tbody>\n",
       "</table>\n",
       "</div>"
      ],
      "text/plain": [
       "   periodo       fecha  hora         autopista banda_y_o_ramal    pk  \\\n",
       "0   201401  2014-01-01     1        AU CAMPORA      ASCENDENTE   600   \n",
       "1   201401  2014-01-01     3     AU DELLEPIANE     DESCENDENTE   600   \n",
       "2   201401  2014-01-01    22     AU 25 DE MAYO      ASCENDENTE  5900   \n",
       "3   201401  2014-03-01     7        AU CAMPORA     DESCENDENTE   600   \n",
       "4   201401  2014-03-01    21  AU PERTIO MORENO     DESCENDENTE  5400   \n",
       "\n",
       "  condiciones_meteorologicas superficie_de_la_via  lesionados  fallecidos  \\\n",
       "0                      BUENO                 SECA           1           0   \n",
       "1                      BUENO                 SECA           0           0   \n",
       "2                      BUENO                 SECA           8           0   \n",
       "3                      BUENO                 SECA           0           0   \n",
       "4                      BUENO                 SECA           1           0   \n",
       "\n",
       "                  tipo_de_siniestro  moto  liviano  bus  camion  \n",
       "0       COLISION CON OBSTACULO FIJO     0        1    0       0  \n",
       "1       COLISION CON OBSTACULO FIJO     0        1    0       0  \n",
       "2  COLISION CON DOS O MAS VEHICULOS     0        2    0       0  \n",
       "3                 OBSTACULO NO FIJO     0        0    0       1  \n",
       "4       COLISION CON OBSTACULO FIJO     0        2    0       0  "
      ]
     },
     "execution_count": 40,
     "metadata": {},
     "output_type": "execute_result"
    }
   ],
   "source": [
    "# Usar date parser para darle formato a las columnas de tiempo\n",
    "accidents = pd.read_csv(os.path.join(path, 'intervenciones-de-seguridad-vial.csv'))\n",
    "accidents.head()"
   ]
  },
  {
   "cell_type": "code",
   "execution_count": 41,
   "id": "covered-samoa",
   "metadata": {},
   "outputs": [
    {
     "name": "stdout",
     "output_type": "stream",
     "text": [
      "<class 'pandas.core.frame.DataFrame'>\n",
      "RangeIndex: 6962 entries, 0 to 6961\n",
      "Data columns (total 15 columns):\n",
      " #   Column                      Non-Null Count  Dtype \n",
      "---  ------                      --------------  ----- \n",
      " 0   periodo                     6962 non-null   int64 \n",
      " 1   fecha                       6962 non-null   object\n",
      " 2   hora                        6962 non-null   int64 \n",
      " 3   autopista                   6962 non-null   object\n",
      " 4   banda_y_o_ramal             6962 non-null   object\n",
      " 5   pk                          6962 non-null   object\n",
      " 6   condiciones_meteorologicas  6962 non-null   object\n",
      " 7   superficie_de_la_via        6962 non-null   object\n",
      " 8   lesionados                  6962 non-null   int64 \n",
      " 9   fallecidos                  6962 non-null   int64 \n",
      " 10  tipo_de_siniestro           6962 non-null   object\n",
      " 11  moto                        6962 non-null   int64 \n",
      " 12  liviano                     6962 non-null   int64 \n",
      " 13  bus                         6962 non-null   int64 \n",
      " 14  camion                      6962 non-null   int64 \n",
      "dtypes: int64(8), object(7)\n",
      "memory usage: 816.0+ KB\n"
     ]
    }
   ],
   "source": [
    "accidents.info()"
   ]
  },
  {
   "cell_type": "code",
   "execution_count": 51,
   "id": "major-allah",
   "metadata": {},
   "outputs": [
    {
     "data": {
      "text/plain": [
       "array(['2014-01-01', '2014-03-01', '2014-04-01', ..., '25/02/2021',\n",
       "       '26/02/2021', '28/02/2021'], dtype=object)"
      ]
     },
     "execution_count": 51,
     "metadata": {},
     "output_type": "execute_result"
    }
   ],
   "source": [
    "accidents.fecha.unique()"
   ]
  }
 ],
 "metadata": {
  "kernelspec": {
   "display_name": "Python 3",
   "language": "python",
   "name": "python3"
  },
  "language_info": {
   "codemirror_mode": {
    "name": "ipython",
    "version": 3
   },
   "file_extension": ".py",
   "mimetype": "text/x-python",
   "name": "python",
   "nbconvert_exporter": "python",
   "pygments_lexer": "ipython3",
   "version": "3.8.6"
  },
  "toc": {
   "base_numbering": 1,
   "nav_menu": {},
   "number_sections": true,
   "sideBar": true,
   "skip_h1_title": false,
   "title_cell": "Table of Contents",
   "title_sidebar": "Contents",
   "toc_cell": false,
   "toc_position": {},
   "toc_section_display": true,
   "toc_window_display": false
  },
  "varInspector": {
   "cols": {
    "lenName": 16,
    "lenType": 16,
    "lenVar": 40
   },
   "kernels_config": {
    "python": {
     "delete_cmd_postfix": "",
     "delete_cmd_prefix": "del ",
     "library": "var_list.py",
     "varRefreshCmd": "print(var_dic_list())"
    },
    "r": {
     "delete_cmd_postfix": ") ",
     "delete_cmd_prefix": "rm(",
     "library": "var_list.r",
     "varRefreshCmd": "cat(var_dic_list()) "
    }
   },
   "types_to_exclude": [
    "module",
    "function",
    "builtin_function_or_method",
    "instance",
    "_Feature"
   ],
   "window_display": false
  }
 },
 "nbformat": 4,
 "nbformat_minor": 5
}
