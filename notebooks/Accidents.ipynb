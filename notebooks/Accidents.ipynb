{
 "cells": [
  {
   "cell_type": "code",
   "execution_count": 1,
   "id": "latin-mixture",
   "metadata": {},
   "outputs": [],
   "source": [
    "# Library imports\n",
    "import pandas as pd\n",
    "import numpy as np\n",
    "import os"
   ]
  },
  {
   "cell_type": "markdown",
   "id": "political-calendar",
   "metadata": {},
   "source": [
    "# Exploring Accidents"
   ]
  },
  {
   "cell_type": "code",
   "execution_count": 2,
   "id": "protected-session",
   "metadata": {},
   "outputs": [
    {
     "data": {
      "text/plain": [
       "['reclamos-ausa.csv',\n",
       " 'documentacion-seguridad-vial.pdf',\n",
       " 'intervenciones-de-seguridad-vial.csv']"
      ]
     },
     "execution_count": 2,
     "metadata": {},
     "output_type": "execute_result"
    }
   ],
   "source": [
    "path = os.path.join(os.path.dirname(os.getcwd()), 'raw_data', 'Accidentes')\n",
    "\n",
    "os.listdir(path)"
   ]
  },
  {
   "cell_type": "code",
   "execution_count": 3,
   "id": "similar-exhibition",
   "metadata": {},
   "outputs": [
    {
     "data": {
      "text/html": [
       "<div>\n",
       "<style scoped>\n",
       "    .dataframe tbody tr th:only-of-type {\n",
       "        vertical-align: middle;\n",
       "    }\n",
       "\n",
       "    .dataframe tbody tr th {\n",
       "        vertical-align: top;\n",
       "    }\n",
       "\n",
       "    .dataframe thead th {\n",
       "        text-align: right;\n",
       "    }\n",
       "</style>\n",
       "<table border=\"1\" class=\"dataframe\">\n",
       "  <thead>\n",
       "    <tr style=\"text-align: right;\">\n",
       "      <th></th>\n",
       "      <th>nro_caso</th>\n",
       "      <th>titulo_caso</th>\n",
       "      <th>fecha</th>\n",
       "    </tr>\n",
       "  </thead>\n",
       "  <tbody>\n",
       "    <tr>\n",
       "      <th>0</th>\n",
       "      <td>C00126163</td>\n",
       "      <td>RECLAMOS/VUELTO ERRONEO/FALTANTE</td>\n",
       "      <td>2016-12-01 15:47:26</td>\n",
       "    </tr>\n",
       "    <tr>\n",
       "      <th>1</th>\n",
       "      <td>C00126165</td>\n",
       "      <td>RECLAMOS/DAÑO DEL VEHICULO SOBRE AU./OBJETO</td>\n",
       "      <td>2016-12-01 16:01:31</td>\n",
       "    </tr>\n",
       "    <tr>\n",
       "      <th>2</th>\n",
       "      <td>C00126167</td>\n",
       "      <td>RECLAMOS/DAÑO EN VIA DE PEAJE/VÍA 07 A</td>\n",
       "      <td>2016-12-01 16:13:41</td>\n",
       "    </tr>\n",
       "    <tr>\n",
       "      <th>3</th>\n",
       "      <td>C00126169</td>\n",
       "      <td>RECLAMOS/DAÑO DEL VEHICULO SOBRE AU./AGRESIÓN ...</td>\n",
       "      <td>2016-12-01 16:35:22</td>\n",
       "    </tr>\n",
       "    <tr>\n",
       "      <th>4</th>\n",
       "      <td>C00126171</td>\n",
       "      <td>QUEJAS/TELEPEAJE/DISPOSICIONES DE SERVICIO</td>\n",
       "      <td>2016-12-01 17:15:12</td>\n",
       "    </tr>\n",
       "  </tbody>\n",
       "</table>\n",
       "</div>"
      ],
      "text/plain": [
       "    nro_caso                                        titulo_caso  \\\n",
       "0  C00126163                   RECLAMOS/VUELTO ERRONEO/FALTANTE   \n",
       "1  C00126165        RECLAMOS/DAÑO DEL VEHICULO SOBRE AU./OBJETO   \n",
       "2  C00126167             RECLAMOS/DAÑO EN VIA DE PEAJE/VÍA 07 A   \n",
       "3  C00126169  RECLAMOS/DAÑO DEL VEHICULO SOBRE AU./AGRESIÓN ...   \n",
       "4  C00126171         QUEJAS/TELEPEAJE/DISPOSICIONES DE SERVICIO   \n",
       "\n",
       "                 fecha  \n",
       "0  2016-12-01 15:47:26  \n",
       "1  2016-12-01 16:01:31  \n",
       "2  2016-12-01 16:13:41  \n",
       "3  2016-12-01 16:35:22  \n",
       "4  2016-12-01 17:15:12  "
      ]
     },
     "execution_count": 3,
     "metadata": {},
     "output_type": "execute_result"
    }
   ],
   "source": [
    "reclamos = pd.read_csv(os.path.join(path, 'reclamos-ausa.csv'))\n",
    "\n",
    "reclamos.head()"
   ]
  },
  {
   "cell_type": "code",
   "execution_count": 4,
   "id": "changing-advice",
   "metadata": {},
   "outputs": [
    {
     "data": {
      "text/plain": [
       "['RECLAMOS', 'VUELTO ERRONEO', 'FALTANTE']"
      ]
     },
     "execution_count": 4,
     "metadata": {},
     "output_type": "execute_result"
    }
   ],
   "source": [
    "reclamos.titulo_caso[0].split('/')"
   ]
  },
  {
   "cell_type": "code",
   "execution_count": 5,
   "id": "future-cowboy",
   "metadata": {},
   "outputs": [
    {
     "data": {
      "text/html": [
       "<div>\n",
       "<style scoped>\n",
       "    .dataframe tbody tr th:only-of-type {\n",
       "        vertical-align: middle;\n",
       "    }\n",
       "\n",
       "    .dataframe tbody tr th {\n",
       "        vertical-align: top;\n",
       "    }\n",
       "\n",
       "    .dataframe thead th {\n",
       "        text-align: right;\n",
       "    }\n",
       "</style>\n",
       "<table border=\"1\" class=\"dataframe\">\n",
       "  <thead>\n",
       "    <tr style=\"text-align: right;\">\n",
       "      <th></th>\n",
       "      <th>fecha</th>\n",
       "      <th>tema</th>\n",
       "      <th>subtema</th>\n",
       "      <th>info</th>\n",
       "    </tr>\n",
       "  </thead>\n",
       "  <tbody>\n",
       "    <tr>\n",
       "      <th>0</th>\n",
       "      <td>2016-12-01 15:47:26</td>\n",
       "      <td>RECLAMOS</td>\n",
       "      <td>VUELTO ERRONEO</td>\n",
       "      <td>FALTANTE</td>\n",
       "    </tr>\n",
       "    <tr>\n",
       "      <th>1</th>\n",
       "      <td>2016-12-01 16:01:31</td>\n",
       "      <td>RECLAMOS</td>\n",
       "      <td>DAÑO DEL VEHICULO SOBRE AU.</td>\n",
       "      <td>OBJETO</td>\n",
       "    </tr>\n",
       "    <tr>\n",
       "      <th>2</th>\n",
       "      <td>2016-12-01 16:13:41</td>\n",
       "      <td>RECLAMOS</td>\n",
       "      <td>DAÑO EN VIA DE PEAJE</td>\n",
       "      <td>VÍA 07 A</td>\n",
       "    </tr>\n",
       "    <tr>\n",
       "      <th>3</th>\n",
       "      <td>2016-12-01 16:35:22</td>\n",
       "      <td>RECLAMOS</td>\n",
       "      <td>DAÑO DEL VEHICULO SOBRE AU.</td>\n",
       "      <td>AGRESIÓN POR TERCEROS</td>\n",
       "    </tr>\n",
       "    <tr>\n",
       "      <th>4</th>\n",
       "      <td>2016-12-01 17:15:12</td>\n",
       "      <td>QUEJAS</td>\n",
       "      <td>TELEPEAJE</td>\n",
       "      <td>DISPOSICIONES DE SERVICIO</td>\n",
       "    </tr>\n",
       "    <tr>\n",
       "      <th>...</th>\n",
       "      <td>...</td>\n",
       "      <td>...</td>\n",
       "      <td>...</td>\n",
       "      <td>...</td>\n",
       "    </tr>\n",
       "    <tr>\n",
       "      <th>5654</th>\n",
       "      <td>2019-04-20 10:00:21</td>\n",
       "      <td>QUEJAS</td>\n",
       "      <td>MALA ATENCION</td>\n",
       "      <td>A completar</td>\n",
       "    </tr>\n",
       "    <tr>\n",
       "      <th>5655</th>\n",
       "      <td>2019-04-20 15:00:24</td>\n",
       "      <td>QUEJAS</td>\n",
       "      <td>EN GENERAL</td>\n",
       "      <td>A completar</td>\n",
       "    </tr>\n",
       "    <tr>\n",
       "      <th>5656</th>\n",
       "      <td>2019-04-22 11:00:24</td>\n",
       "      <td>RECLAMOS</td>\n",
       "      <td>VUELTO ERRONEO</td>\n",
       "      <td>A completar</td>\n",
       "    </tr>\n",
       "    <tr>\n",
       "      <th>5657</th>\n",
       "      <td>2019-04-23 10:30:10</td>\n",
       "      <td>QUEJAS</td>\n",
       "      <td>PEAJE</td>\n",
       "      <td>A completar</td>\n",
       "    </tr>\n",
       "    <tr>\n",
       "      <th>5658</th>\n",
       "      <td>2019-04-23 10:30:20</td>\n",
       "      <td>QUEJAS</td>\n",
       "      <td>EN GENERAL</td>\n",
       "      <td>A completar</td>\n",
       "    </tr>\n",
       "  </tbody>\n",
       "</table>\n",
       "<p>5659 rows × 4 columns</p>\n",
       "</div>"
      ],
      "text/plain": [
       "                    fecha      tema                      subtema  \\\n",
       "0     2016-12-01 15:47:26  RECLAMOS               VUELTO ERRONEO   \n",
       "1     2016-12-01 16:01:31  RECLAMOS  DAÑO DEL VEHICULO SOBRE AU.   \n",
       "2     2016-12-01 16:13:41  RECLAMOS         DAÑO EN VIA DE PEAJE   \n",
       "3     2016-12-01 16:35:22  RECLAMOS  DAÑO DEL VEHICULO SOBRE AU.   \n",
       "4     2016-12-01 17:15:12    QUEJAS                    TELEPEAJE   \n",
       "...                   ...       ...                          ...   \n",
       "5654  2019-04-20 10:00:21    QUEJAS                MALA ATENCION   \n",
       "5655  2019-04-20 15:00:24    QUEJAS                   EN GENERAL   \n",
       "5656  2019-04-22 11:00:24  RECLAMOS               VUELTO ERRONEO   \n",
       "5657  2019-04-23 10:30:10    QUEJAS                        PEAJE   \n",
       "5658  2019-04-23 10:30:20    QUEJAS                   EN GENERAL   \n",
       "\n",
       "                           info  \n",
       "0                      FALTANTE  \n",
       "1                        OBJETO  \n",
       "2                      VÍA 07 A  \n",
       "3         AGRESIÓN POR TERCEROS  \n",
       "4     DISPOSICIONES DE SERVICIO  \n",
       "...                         ...  \n",
       "5654               A completar   \n",
       "5655               A completar   \n",
       "5656               A completar   \n",
       "5657               A completar   \n",
       "5658               A completar   \n",
       "\n",
       "[5659 rows x 4 columns]"
      ]
     },
     "execution_count": 5,
     "metadata": {},
     "output_type": "execute_result"
    }
   ],
   "source": [
    "reclamos['tema'] = [reclamo.split('/')[0] for reclamo in reclamos.titulo_caso]\n",
    "reclamos['subtema'] = [reclamo.split('/')[1] for reclamo in reclamos.titulo_caso]\n",
    "reclamos['info'] = [reclamo.split('/')[2] for reclamo in reclamos.titulo_caso]\n",
    "reclamos.drop(columns=['nro_caso', 'titulo_caso'], inplace=True)\n",
    "\n",
    "reclamos"
   ]
  },
  {
   "cell_type": "code",
   "execution_count": 6,
   "id": "engaged-radical",
   "metadata": {},
   "outputs": [
    {
     "data": {
      "text/plain": [
       "A completar                           1\n",
       "A completar                           2\n",
       "ACCIDENTE                             2\n",
       "CONGESTIONAMIENTO                     6\n",
       "DAÑO DE VEHÍCULO                      3\n",
       "DAÑO DEL VEHICULO SOBRE AU.        1507\n",
       "DAÑO DEL VEHICULO SOBRE AU.          65\n",
       "DAÑO EN VIA DE PEAJE                701\n",
       "DAÑO EN VIA DE PEAJE                 28\n",
       "DAÑO EN VIA TELEPEAJE               589\n",
       "DAÑO EN VIA TELEPEAJE                15\n",
       "DISCONFORMIDAD CON EL SERVICIO       26\n",
       "DISCONFORMIDAD CON EL SERVICIO        1\n",
       "EN GENERAL                          306\n",
       "EN GENERAL                           15\n",
       "EXCEPCION DE PEAJE                   17\n",
       "EXCEPCION DE PEAJE                    1\n",
       "MALA ATENCION                       548\n",
       "MALA ATENCION                        26\n",
       "MANTENIMIENTO                         7\n",
       "MANTENIMIENTO                         8\n",
       "MANTENIMIENTO DE AU DE AUSA          90\n",
       "MANTENIMIENTO DE AU DE AUSA          14\n",
       "PEAJE                               445\n",
       "PEAJE                                20\n",
       "POLICIA                               2\n",
       "SECTORES ANEXOS                     139\n",
       "SECTORES ANEXOS                      26\n",
       "SEGURIDAD                             3\n",
       "SEGURIDAD                             1\n",
       "SEGURIDAD VIAL                        2\n",
       "SEÑALIZACION DE AU DE AUSA           26\n",
       "SEÑALIZACION DE AU DE AUSA            1\n",
       "TELEPASE                             33\n",
       "TELEPEAJE                            91\n",
       "TELEPEAJE                             4\n",
       "TELEPEAJE AUSA                        1\n",
       "TELEPEAJE OTRAS AUTOPISTAS            4\n",
       "VUELTO ERRONEO                      854\n",
       "VUELTO ERRONEO                       29\n",
       "Name: subtema, dtype: int64"
      ]
     },
     "execution_count": 6,
     "metadata": {},
     "output_type": "execute_result"
    }
   ],
   "source": [
    "reclamos['subtema'].value_counts().sort_index()"
   ]
  },
  {
   "cell_type": "code",
   "execution_count": 7,
   "id": "vital-exemption",
   "metadata": {},
   "outputs": [
    {
     "data": {
      "text/plain": [
       "A completar                          3\n",
       "ACCIDENTE                            2\n",
       "CONGESTIONAMIENTO                    6\n",
       "DAÑO DE VEHÍCULO                     3\n",
       "DAÑO DEL VEHICULO SOBRE AU.       1572\n",
       "DAÑO EN VIA DE PEAJE               729\n",
       "DAÑO EN VIA TELEPEAJE              604\n",
       "DISCONFORMIDAD CON EL SERVICIO      27\n",
       "EN GENERAL                         321\n",
       "EXCEPCION DE PEAJE                  18\n",
       "MALA ATENCION                      574\n",
       "MANTENIMIENTO                       15\n",
       "MANTENIMIENTO DE AU DE AUSA        104\n",
       "PEAJE                              465\n",
       "POLICIA                              2\n",
       "SECTORES ANEXOS                    165\n",
       "SEGURIDAD                            4\n",
       "SEGURIDAD VIAL                       2\n",
       "SEÑALIZACION DE AU DE AUSA          27\n",
       "TELEPASE                            33\n",
       "TELEPEAJE                           95\n",
       "TELEPEAJE AUSA                       1\n",
       "TELEPEAJE OTRAS AUTOPISTAS           4\n",
       "VUELTO ERRONEO                     883\n",
       "Name: subtema, dtype: int64"
      ]
     },
     "execution_count": 7,
     "metadata": {},
     "output_type": "execute_result"
    }
   ],
   "source": [
    "reclamos['subtema'] = reclamos['subtema'].str.strip()\n",
    "reclamos['subtema'].value_counts().sort_index()"
   ]
  },
  {
   "cell_type": "code",
   "execution_count": 8,
   "id": "suited-delaware",
   "metadata": {},
   "outputs": [],
   "source": [
    "reclamos['subtema'][reclamos.subtema.str.contains('TEL')] = 'TELEPEAJE'\n",
    "reclamos['subtema'][reclamos.subtema.str.contains('MANTE')] = 'MANTENIMIENTO'"
   ]
  },
  {
   "cell_type": "code",
   "execution_count": 9,
   "id": "auburn-express",
   "metadata": {},
   "outputs": [
    {
     "data": {
      "text/plain": [
       "MANTENIMIENTO    119\n",
       "Name: subtema, dtype: int64"
      ]
     },
     "execution_count": 9,
     "metadata": {},
     "output_type": "execute_result"
    }
   ],
   "source": [
    "reclamos['subtema'][reclamos.subtema.str.contains('MANTE')].value_counts()"
   ]
  },
  {
   "cell_type": "code",
   "execution_count": 10,
   "id": "speaking-little",
   "metadata": {},
   "outputs": [
    {
     "data": {
      "text/plain": [
       "0.016610708605760735"
      ]
     },
     "execution_count": 10,
     "metadata": {},
     "output_type": "execute_result"
    }
   ],
   "source": [
    "reclamos.subtema.value_counts()[reclamos.subtema.value_counts(normalize=True) < 0.01].sum() / len(reclamos)"
   ]
  },
  {
   "cell_type": "code",
   "execution_count": 29,
   "id": "complimentary-buddy",
   "metadata": {},
   "outputs": [
    {
     "data": {
      "text/plain": [
       "Series([], Name: subtema, dtype: int64)"
      ]
     },
     "execution_count": 29,
     "metadata": {},
     "output_type": "execute_result"
    }
   ],
   "source": [
    "others = list(reclamos['subtema'].value_counts()[reclamos['subtema'].value_counts() < 10].index)\n",
    "others"
   ]
  },
  {
   "cell_type": "code",
   "execution_count": 23,
   "id": "based-campus",
   "metadata": {},
   "outputs": [],
   "source": [
    "reclamos['subtema'][reclamos.subtema.isin(others)] = 'OTROS'"
   ]
  },
  {
   "cell_type": "code",
   "execution_count": 25,
   "id": "mounted-creature",
   "metadata": {},
   "outputs": [
    {
     "data": {
      "text/plain": [
       "DAÑO DEL VEHICULO SOBRE AU.       1572\n",
       "DAÑO EN VIA DE PEAJE               729\n",
       "DISCONFORMIDAD CON EL SERVICIO      27\n",
       "EN GENERAL                         321\n",
       "EXCEPCION DE PEAJE                  18\n",
       "MALA ATENCION                      574\n",
       "MANTENIMIENTO                      119\n",
       "OTROS                               22\n",
       "PEAJE                              465\n",
       "SECTORES ANEXOS                    165\n",
       "SEÑALIZACION DE AU DE AUSA          27\n",
       "TELEPEAJE                          737\n",
       "VUELTO ERRONEO                     883\n",
       "Name: subtema, dtype: int64"
      ]
     },
     "execution_count": 25,
     "metadata": {},
     "output_type": "execute_result"
    }
   ],
   "source": [
    "reclamos.subtema.value_counts().sort_index()"
   ]
  },
  {
   "cell_type": "code",
   "execution_count": 49,
   "id": "brutal-classic",
   "metadata": {},
   "outputs": [
    {
     "data": {
      "text/plain": [
       "Int64Index([1527, 3988, 3989, 3990], dtype='int64')"
      ]
     },
     "execution_count": 49,
     "metadata": {},
     "output_type": "execute_result"
    }
   ],
   "source": [
    "reclamos[reclamos.tema.str.contains('a completar', case=False)].index"
   ]
  },
  {
   "cell_type": "code",
   "execution_count": 54,
   "id": "pending-breach",
   "metadata": {},
   "outputs": [],
   "source": [
    "reclamos.drop(index=reclamos[reclamos.tema.str.contains('a completar', case=False)].index, inplace=True)"
   ]
  }
 ],
 "metadata": {
  "kernelspec": {
   "display_name": "Python 3",
   "language": "python",
   "name": "python3"
  },
  "language_info": {
   "codemirror_mode": {
    "name": "ipython",
    "version": 3
   },
   "file_extension": ".py",
   "mimetype": "text/x-python",
   "name": "python",
   "nbconvert_exporter": "python",
   "pygments_lexer": "ipython3",
   "version": "3.8.6"
  },
  "toc": {
   "base_numbering": 1,
   "nav_menu": {},
   "number_sections": true,
   "sideBar": true,
   "skip_h1_title": false,
   "title_cell": "Table of Contents",
   "title_sidebar": "Contents",
   "toc_cell": false,
   "toc_position": {},
   "toc_section_display": true,
   "toc_window_display": false
  },
  "varInspector": {
   "cols": {
    "lenName": 16,
    "lenType": 16,
    "lenVar": 40
   },
   "kernels_config": {
    "python": {
     "delete_cmd_postfix": "",
     "delete_cmd_prefix": "del ",
     "library": "var_list.py",
     "varRefreshCmd": "print(var_dic_list())"
    },
    "r": {
     "delete_cmd_postfix": ") ",
     "delete_cmd_prefix": "rm(",
     "library": "var_list.r",
     "varRefreshCmd": "cat(var_dic_list()) "
    }
   },
   "types_to_exclude": [
    "module",
    "function",
    "builtin_function_or_method",
    "instance",
    "_Feature"
   ],
   "window_display": false
  }
 },
 "nbformat": 4,
 "nbformat_minor": 5
}
